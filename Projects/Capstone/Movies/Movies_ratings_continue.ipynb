{
 "cells": [
  {
   "cell_type": "code",
   "execution_count": 1,
   "metadata": {
    "collapsed": true
   },
   "outputs": [],
   "source": [
    "import numpy as np\n",
    "import scipy.stats as stats\n",
    "import seaborn as sns\n",
    "import matplotlib.pyplot as plt\n",
    "import pandas as pd\n",
    "\n",
    "sns.set_style('whitegrid')\n",
    "\n",
    "%config InlineBackend.figure_format = 'retina'\n",
    "%matplotlib inline"
   ]
  },
  {
   "cell_type": "code",
   "execution_count": 2,
   "metadata": {
    "collapsed": false
   },
   "outputs": [],
   "source": [
    "ratings_movies_user = pd.read_csv('/Users/katerinacapouskova/Desktop/DSI-SF-4-katerinaC/Projects/Capstone/Movies/ml-latest/movies_ratings_user.csv')"
   ]
  },
  {
   "cell_type": "markdown",
   "metadata": {},
   "source": [
    "### Take only movies that were rated more than 10 times:"
   ]
  },
  {
   "cell_type": "code",
   "execution_count": 3,
   "metadata": {
    "collapsed": false
   },
   "outputs": [
    {
     "data": {
      "text/html": [
       "<div>\n",
       "<table border=\"1\" class=\"dataframe\">\n",
       "  <thead>\n",
       "    <tr style=\"text-align: right;\">\n",
       "      <th></th>\n",
       "      <th>Unnamed: 0</th>\n",
       "      <th>userId</th>\n",
       "      <th>movieId</th>\n",
       "      <th>rating_x</th>\n",
       "      <th>ratings_count</th>\n",
       "      <th>ratings_mean</th>\n",
       "      <th>title</th>\n",
       "      <th>genres</th>\n",
       "      <th>COMEDY</th>\n",
       "      <th>DRAMA</th>\n",
       "      <th>...</th>\n",
       "      <th>FANTASY</th>\n",
       "      <th>FILM-NOIR</th>\n",
       "      <th>MUSICAL</th>\n",
       "      <th>SCI-FI</th>\n",
       "      <th>MYSTERY</th>\n",
       "      <th>WAR</th>\n",
       "      <th>Year</th>\n",
       "      <th>title_list</th>\n",
       "      <th>user_avg_rating</th>\n",
       "      <th>rating_mean_stand</th>\n",
       "    </tr>\n",
       "  </thead>\n",
       "  <tbody>\n",
       "    <tr>\n",
       "      <th>0</th>\n",
       "      <td>0</td>\n",
       "      <td>1</td>\n",
       "      <td>122</td>\n",
       "      <td>2.0</td>\n",
       "      <td>4060.0</td>\n",
       "      <td>2.862931</td>\n",
       "      <td>Boomerang (1992)</td>\n",
       "      <td>Comedy|Romance</td>\n",
       "      <td>1.0</td>\n",
       "      <td>0.0</td>\n",
       "      <td>...</td>\n",
       "      <td>0.0</td>\n",
       "      <td>0.0</td>\n",
       "      <td>0.0</td>\n",
       "      <td>0.0</td>\n",
       "      <td>0.0</td>\n",
       "      <td>0.0</td>\n",
       "      <td>1992.0</td>\n",
       "      <td>['Boomerang']</td>\n",
       "      <td>2.666667</td>\n",
       "      <td>-0.666667</td>\n",
       "    </tr>\n",
       "    <tr>\n",
       "      <th>1</th>\n",
       "      <td>1</td>\n",
       "      <td>1</td>\n",
       "      <td>172</td>\n",
       "      <td>1.0</td>\n",
       "      <td>14078.0</td>\n",
       "      <td>2.742542</td>\n",
       "      <td>Johnny Mnemonic (1995)</td>\n",
       "      <td>Action|Sci-Fi|Thriller</td>\n",
       "      <td>0.0</td>\n",
       "      <td>0.0</td>\n",
       "      <td>...</td>\n",
       "      <td>0.0</td>\n",
       "      <td>0.0</td>\n",
       "      <td>0.0</td>\n",
       "      <td>1.0</td>\n",
       "      <td>0.0</td>\n",
       "      <td>0.0</td>\n",
       "      <td>1995.0</td>\n",
       "      <td>['Johnny', 'Mnemonic']</td>\n",
       "      <td>2.666667</td>\n",
       "      <td>-1.666667</td>\n",
       "    </tr>\n",
       "    <tr>\n",
       "      <th>2</th>\n",
       "      <td>2</td>\n",
       "      <td>1</td>\n",
       "      <td>1221</td>\n",
       "      <td>5.0</td>\n",
       "      <td>34508.0</td>\n",
       "      <td>4.263098</td>\n",
       "      <td>Godfather: Part II, The (1974)</td>\n",
       "      <td>Crime|Drama</td>\n",
       "      <td>0.0</td>\n",
       "      <td>1.0</td>\n",
       "      <td>...</td>\n",
       "      <td>0.0</td>\n",
       "      <td>0.0</td>\n",
       "      <td>0.0</td>\n",
       "      <td>0.0</td>\n",
       "      <td>0.0</td>\n",
       "      <td>0.0</td>\n",
       "      <td>1974.0</td>\n",
       "      <td>['Godfather:', 'Part', 'II,', 'The']</td>\n",
       "      <td>2.666667</td>\n",
       "      <td>2.333333</td>\n",
       "    </tr>\n",
       "    <tr>\n",
       "      <th>3</th>\n",
       "      <td>3</td>\n",
       "      <td>1</td>\n",
       "      <td>1441</td>\n",
       "      <td>4.0</td>\n",
       "      <td>6723.0</td>\n",
       "      <td>3.544102</td>\n",
       "      <td>Benny &amp; Joon (1993)</td>\n",
       "      <td>Comedy|Romance</td>\n",
       "      <td>1.0</td>\n",
       "      <td>0.0</td>\n",
       "      <td>...</td>\n",
       "      <td>0.0</td>\n",
       "      <td>0.0</td>\n",
       "      <td>0.0</td>\n",
       "      <td>0.0</td>\n",
       "      <td>0.0</td>\n",
       "      <td>0.0</td>\n",
       "      <td>1993.0</td>\n",
       "      <td>['Benny', '&amp;', 'Joon']</td>\n",
       "      <td>2.666667</td>\n",
       "      <td>1.333333</td>\n",
       "    </tr>\n",
       "    <tr>\n",
       "      <th>4</th>\n",
       "      <td>4</td>\n",
       "      <td>1</td>\n",
       "      <td>1961</td>\n",
       "      <td>3.0</td>\n",
       "      <td>29790.0</td>\n",
       "      <td>3.911195</td>\n",
       "      <td>Rain Man (1988)</td>\n",
       "      <td>Drama</td>\n",
       "      <td>0.0</td>\n",
       "      <td>1.0</td>\n",
       "      <td>...</td>\n",
       "      <td>0.0</td>\n",
       "      <td>0.0</td>\n",
       "      <td>0.0</td>\n",
       "      <td>0.0</td>\n",
       "      <td>0.0</td>\n",
       "      <td>0.0</td>\n",
       "      <td>1988.0</td>\n",
       "      <td>['Rain', 'Man']</td>\n",
       "      <td>2.666667</td>\n",
       "      <td>0.333333</td>\n",
       "    </tr>\n",
       "  </tbody>\n",
       "</table>\n",
       "<p>5 rows × 29 columns</p>\n",
       "</div>"
      ],
      "text/plain": [
       "   Unnamed: 0  userId  movieId  rating_x  ratings_count  ratings_mean  \\\n",
       "0           0       1      122       2.0         4060.0      2.862931   \n",
       "1           1       1      172       1.0        14078.0      2.742542   \n",
       "2           2       1     1221       5.0        34508.0      4.263098   \n",
       "3           3       1     1441       4.0         6723.0      3.544102   \n",
       "4           4       1     1961       3.0        29790.0      3.911195   \n",
       "\n",
       "                            title                  genres  COMEDY  DRAMA  \\\n",
       "0                Boomerang (1992)          Comedy|Romance     1.0    0.0   \n",
       "1          Johnny Mnemonic (1995)  Action|Sci-Fi|Thriller     0.0    0.0   \n",
       "2  Godfather: Part II, The (1974)             Crime|Drama     0.0    1.0   \n",
       "3             Benny & Joon (1993)          Comedy|Romance     1.0    0.0   \n",
       "4                 Rain Man (1988)                   Drama     0.0    1.0   \n",
       "\n",
       "         ...          FANTASY  FILM-NOIR  MUSICAL  SCI-FI  MYSTERY  WAR  \\\n",
       "0        ...              0.0        0.0      0.0     0.0      0.0  0.0   \n",
       "1        ...              0.0        0.0      0.0     1.0      0.0  0.0   \n",
       "2        ...              0.0        0.0      0.0     0.0      0.0  0.0   \n",
       "3        ...              0.0        0.0      0.0     0.0      0.0  0.0   \n",
       "4        ...              0.0        0.0      0.0     0.0      0.0  0.0   \n",
       "\n",
       "     Year                            title_list  user_avg_rating  \\\n",
       "0  1992.0                         ['Boomerang']         2.666667   \n",
       "1  1995.0                ['Johnny', 'Mnemonic']         2.666667   \n",
       "2  1974.0  ['Godfather:', 'Part', 'II,', 'The']         2.666667   \n",
       "3  1993.0                ['Benny', '&', 'Joon']         2.666667   \n",
       "4  1988.0                       ['Rain', 'Man']         2.666667   \n",
       "\n",
       "   rating_mean_stand  \n",
       "0          -0.666667  \n",
       "1          -1.666667  \n",
       "2           2.333333  \n",
       "3           1.333333  \n",
       "4           0.333333  \n",
       "\n",
       "[5 rows x 29 columns]"
      ]
     },
     "execution_count": 3,
     "metadata": {},
     "output_type": "execute_result"
    }
   ],
   "source": [
    "ratings_movies_user.head()"
   ]
  },
  {
   "cell_type": "code",
   "execution_count": 4,
   "metadata": {
    "collapsed": false
   },
   "outputs": [
    {
     "data": {
      "text/plain": [
       "(22685691, 29)"
      ]
     },
     "execution_count": 4,
     "metadata": {},
     "output_type": "execute_result"
    }
   ],
   "source": [
    "ratings_movies_user.shape"
   ]
  },
  {
   "cell_type": "code",
   "execution_count": 3,
   "metadata": {
    "collapsed": true
   },
   "outputs": [],
   "source": [
    "movieId_sum = ratings_movies_user.groupby(['title'])['movieId'].count()"
   ]
  },
  {
   "cell_type": "code",
   "execution_count": 4,
   "metadata": {
    "collapsed": false
   },
   "outputs": [],
   "source": [
    "movieId_count = pd.DataFrame(movieId_sum)"
   ]
  },
  {
   "cell_type": "code",
   "execution_count": 5,
   "metadata": {
    "collapsed": false
   },
   "outputs": [
    {
     "data": {
      "text/html": [
       "<div>\n",
       "<table border=\"1\" class=\"dataframe\">\n",
       "  <thead>\n",
       "    <tr style=\"text-align: right;\">\n",
       "      <th></th>\n",
       "      <th>title</th>\n",
       "      <th>movieId</th>\n",
       "    </tr>\n",
       "  </thead>\n",
       "  <tbody>\n",
       "    <tr>\n",
       "      <th>0</th>\n",
       "      <td>\"Great Performances\" Cats (1998)</td>\n",
       "      <td>211</td>\n",
       "    </tr>\n",
       "    <tr>\n",
       "      <th>1</th>\n",
       "      <td>#1 Cheerleader Camp (2010)</td>\n",
       "      <td>6</td>\n",
       "    </tr>\n",
       "    <tr>\n",
       "      <th>2</th>\n",
       "      <td>#Horror (2015)</td>\n",
       "      <td>9</td>\n",
       "    </tr>\n",
       "    <tr>\n",
       "      <th>3</th>\n",
       "      <td>#chicagoGirl: The Social Network Takes on a Di...</td>\n",
       "      <td>3</td>\n",
       "    </tr>\n",
       "    <tr>\n",
       "      <th>4</th>\n",
       "      <td>$5 a Day (2008)</td>\n",
       "      <td>53</td>\n",
       "    </tr>\n",
       "    <tr>\n",
       "      <th>5</th>\n",
       "      <td>$50K and a Call Girl: A Love Story (2014)</td>\n",
       "      <td>2</td>\n",
       "    </tr>\n",
       "    <tr>\n",
       "      <th>6</th>\n",
       "      <td>$9.99 (2008)</td>\n",
       "      <td>65</td>\n",
       "    </tr>\n",
       "    <tr>\n",
       "      <th>7</th>\n",
       "      <td>'71 (2014)</td>\n",
       "      <td>193</td>\n",
       "    </tr>\n",
       "    <tr>\n",
       "      <th>8</th>\n",
       "      <td>'Hellboy': The Seeds of Creation (2004)</td>\n",
       "      <td>110</td>\n",
       "    </tr>\n",
       "    <tr>\n",
       "      <th>9</th>\n",
       "      <td>'Master Harold'... and the Boys (1985)</td>\n",
       "      <td>2</td>\n",
       "    </tr>\n",
       "    <tr>\n",
       "      <th>10</th>\n",
       "      <td>'Neath the Arizona Skies (1934)</td>\n",
       "      <td>24</td>\n",
       "    </tr>\n",
       "    <tr>\n",
       "      <th>11</th>\n",
       "      <td>'R Xmas (2001)</td>\n",
       "      <td>24</td>\n",
       "    </tr>\n",
       "    <tr>\n",
       "      <th>12</th>\n",
       "      <td>'Round Midnight (1986)</td>\n",
       "      <td>207</td>\n",
       "    </tr>\n",
       "    <tr>\n",
       "      <th>13</th>\n",
       "      <td>'Salem's Lot (2004)</td>\n",
       "      <td>163</td>\n",
       "    </tr>\n",
       "    <tr>\n",
       "      <th>14</th>\n",
       "      <td>'Til Madness Do Us Part (2013)</td>\n",
       "      <td>2</td>\n",
       "    </tr>\n",
       "    <tr>\n",
       "      <th>15</th>\n",
       "      <td>'Til There Was You (1997)</td>\n",
       "      <td>557</td>\n",
       "    </tr>\n",
       "    <tr>\n",
       "      <th>16</th>\n",
       "      <td>'Tis the Season for Love (2015)</td>\n",
       "      <td>9</td>\n",
       "    </tr>\n",
       "    <tr>\n",
       "      <th>17</th>\n",
       "      <td>'Twas the Night (2001)</td>\n",
       "      <td>2</td>\n",
       "    </tr>\n",
       "    <tr>\n",
       "      <th>18</th>\n",
       "      <td>'Twas the Night Before Christmas (1974)</td>\n",
       "      <td>15</td>\n",
       "    </tr>\n",
       "    <tr>\n",
       "      <th>19</th>\n",
       "      <td>'burbs, The (1989)</td>\n",
       "      <td>3615</td>\n",
       "    </tr>\n",
       "    <tr>\n",
       "      <th>20</th>\n",
       "      <td>'night Mother (1986)</td>\n",
       "      <td>371</td>\n",
       "    </tr>\n",
       "    <tr>\n",
       "      <th>21</th>\n",
       "      <td>(500) Days of Summer (2009)</td>\n",
       "      <td>9598</td>\n",
       "    </tr>\n",
       "    <tr>\n",
       "      <th>22</th>\n",
       "      <td>*batteries not included (1987)</td>\n",
       "      <td>1914</td>\n",
       "    </tr>\n",
       "    <tr>\n",
       "      <th>23</th>\n",
       "      <td>+1 (2013)</td>\n",
       "      <td>39</td>\n",
       "    </tr>\n",
       "    <tr>\n",
       "      <th>24</th>\n",
       "      <td>...All the Marbles (1981)</td>\n",
       "      <td>59</td>\n",
       "    </tr>\n",
       "    <tr>\n",
       "      <th>25</th>\n",
       "      <td>...And God Spoke (1993)</td>\n",
       "      <td>56</td>\n",
       "    </tr>\n",
       "    <tr>\n",
       "      <th>26</th>\n",
       "      <td>...And Justice for All (1979)</td>\n",
       "      <td>1245</td>\n",
       "    </tr>\n",
       "    <tr>\n",
       "      <th>27</th>\n",
       "      <td>...ing (2003)</td>\n",
       "      <td>3</td>\n",
       "    </tr>\n",
       "    <tr>\n",
       "      <th>28</th>\n",
       "      <td>...tick... tick... tick... (1970)</td>\n",
       "      <td>5</td>\n",
       "    </tr>\n",
       "    <tr>\n",
       "      <th>29</th>\n",
       "      <td>.45 (2006)</td>\n",
       "      <td>21</td>\n",
       "    </tr>\n",
       "    <tr>\n",
       "      <th>...</th>\n",
       "      <td>...</td>\n",
       "      <td>...</td>\n",
       "    </tr>\n",
       "    <tr>\n",
       "      <th>27568</th>\n",
       "      <td>a/k/a Tommy Chong (2005)</td>\n",
       "      <td>44</td>\n",
       "    </tr>\n",
       "    <tr>\n",
       "      <th>27569</th>\n",
       "      <td>differently, Molussia (2012)</td>\n",
       "      <td>2</td>\n",
       "    </tr>\n",
       "    <tr>\n",
       "      <th>27570</th>\n",
       "      <td>eCupid (2011)</td>\n",
       "      <td>5</td>\n",
       "    </tr>\n",
       "    <tr>\n",
       "      <th>27571</th>\n",
       "      <td>eXistenZ (1999)</td>\n",
       "      <td>5976</td>\n",
       "    </tr>\n",
       "    <tr>\n",
       "      <th>27572</th>\n",
       "      <td>iMurders (2008)</td>\n",
       "      <td>3</td>\n",
       "    </tr>\n",
       "    <tr>\n",
       "      <th>27573</th>\n",
       "      <td>iSteve (2013)</td>\n",
       "      <td>9</td>\n",
       "    </tr>\n",
       "    <tr>\n",
       "      <th>27574</th>\n",
       "      <td>loudQUIETloud: A Film About the Pixies (2006)</td>\n",
       "      <td>111</td>\n",
       "    </tr>\n",
       "    <tr>\n",
       "      <th>27575</th>\n",
       "      <td>unINDIAN (2015)</td>\n",
       "      <td>2</td>\n",
       "    </tr>\n",
       "    <tr>\n",
       "      <th>27576</th>\n",
       "      <td>xXx (2002)</td>\n",
       "      <td>5591</td>\n",
       "    </tr>\n",
       "    <tr>\n",
       "      <th>27577</th>\n",
       "      <td>xXx: State of the Union (2005)</td>\n",
       "      <td>986</td>\n",
       "    </tr>\n",
       "    <tr>\n",
       "      <th>27578</th>\n",
       "      <td>¡Cuba Sí! (1961)</td>\n",
       "      <td>2</td>\n",
       "    </tr>\n",
       "    <tr>\n",
       "      <th>27579</th>\n",
       "      <td>¡Qué hacer! (1970)</td>\n",
       "      <td>3</td>\n",
       "    </tr>\n",
       "    <tr>\n",
       "      <th>27580</th>\n",
       "      <td>¡Three Amigos! (1986)</td>\n",
       "      <td>7510</td>\n",
       "    </tr>\n",
       "    <tr>\n",
       "      <th>27581</th>\n",
       "      <td>¡Vivan las Antipodas! (2011)</td>\n",
       "      <td>2</td>\n",
       "    </tr>\n",
       "    <tr>\n",
       "      <th>27582</th>\n",
       "      <td>À l'aventure (2008)</td>\n",
       "      <td>10</td>\n",
       "    </tr>\n",
       "    <tr>\n",
       "      <th>27583</th>\n",
       "      <td>À nos amours (1983)</td>\n",
       "      <td>30</td>\n",
       "    </tr>\n",
       "    <tr>\n",
       "      <th>27584</th>\n",
       "      <td>À propos de Nice (1930)</td>\n",
       "      <td>16</td>\n",
       "    </tr>\n",
       "    <tr>\n",
       "      <th>27585</th>\n",
       "      <td>Árido Movie (2005)</td>\n",
       "      <td>4</td>\n",
       "    </tr>\n",
       "    <tr>\n",
       "      <th>27586</th>\n",
       "      <td>Äkkilähtö (2016)</td>\n",
       "      <td>4</td>\n",
       "    </tr>\n",
       "    <tr>\n",
       "      <th>27587</th>\n",
       "      <td>Åsa-Nisse - Wälkom to Knohult (2011)</td>\n",
       "      <td>3</td>\n",
       "    </tr>\n",
       "    <tr>\n",
       "      <th>27588</th>\n",
       "      <td>Ó Paí, Ó (2007)</td>\n",
       "      <td>5</td>\n",
       "    </tr>\n",
       "    <tr>\n",
       "      <th>27589</th>\n",
       "      <td>Ödipussi (1988)</td>\n",
       "      <td>3</td>\n",
       "    </tr>\n",
       "    <tr>\n",
       "      <th>27590</th>\n",
       "      <td>Üvegtigris (2001)</td>\n",
       "      <td>5</td>\n",
       "    </tr>\n",
       "    <tr>\n",
       "      <th>27591</th>\n",
       "      <td>İtirazım Var (2014)</td>\n",
       "      <td>7</td>\n",
       "    </tr>\n",
       "    <tr>\n",
       "      <th>27592</th>\n",
       "      <td>Мафия (2016)</td>\n",
       "      <td>3</td>\n",
       "    </tr>\n",
       "    <tr>\n",
       "      <th>27593</th>\n",
       "      <td>…And the Fifth Horseman Is Fear (1965)</td>\n",
       "      <td>2</td>\n",
       "    </tr>\n",
       "    <tr>\n",
       "      <th>27594</th>\n",
       "      <td>キサラギ (2007)</td>\n",
       "      <td>2</td>\n",
       "    </tr>\n",
       "    <tr>\n",
       "      <th>27595</th>\n",
       "      <td>ドラゴンボール Ｚ あつまれ！ 悟空ワールド (1992)</td>\n",
       "      <td>5</td>\n",
       "    </tr>\n",
       "    <tr>\n",
       "      <th>27596</th>\n",
       "      <td>貞子3D (2012)</td>\n",
       "      <td>5</td>\n",
       "    </tr>\n",
       "    <tr>\n",
       "      <th>27597</th>\n",
       "      <td>줄탁동시 (2012)</td>\n",
       "      <td>2</td>\n",
       "    </tr>\n",
       "  </tbody>\n",
       "</table>\n",
       "<p>27598 rows × 2 columns</p>\n",
       "</div>"
      ],
      "text/plain": [
       "                                                   title  movieId\n",
       "0                       \"Great Performances\" Cats (1998)      211\n",
       "1                             #1 Cheerleader Camp (2010)        6\n",
       "2                                         #Horror (2015)        9\n",
       "3      #chicagoGirl: The Social Network Takes on a Di...        3\n",
       "4                                        $5 a Day (2008)       53\n",
       "5              $50K and a Call Girl: A Love Story (2014)        2\n",
       "6                                           $9.99 (2008)       65\n",
       "7                                             '71 (2014)      193\n",
       "8                'Hellboy': The Seeds of Creation (2004)      110\n",
       "9                 'Master Harold'... and the Boys (1985)        2\n",
       "10                       'Neath the Arizona Skies (1934)       24\n",
       "11                                        'R Xmas (2001)       24\n",
       "12                                'Round Midnight (1986)      207\n",
       "13                                   'Salem's Lot (2004)      163\n",
       "14                        'Til Madness Do Us Part (2013)        2\n",
       "15                             'Til There Was You (1997)      557\n",
       "16                       'Tis the Season for Love (2015)        9\n",
       "17                                'Twas the Night (2001)        2\n",
       "18               'Twas the Night Before Christmas (1974)       15\n",
       "19                                    'burbs, The (1989)     3615\n",
       "20                                  'night Mother (1986)      371\n",
       "21                           (500) Days of Summer (2009)     9598\n",
       "22                        *batteries not included (1987)     1914\n",
       "23                                             +1 (2013)       39\n",
       "24                             ...All the Marbles (1981)       59\n",
       "25                               ...And God Spoke (1993)       56\n",
       "26                         ...And Justice for All (1979)     1245\n",
       "27                                         ...ing (2003)        3\n",
       "28                     ...tick... tick... tick... (1970)        5\n",
       "29                                            .45 (2006)       21\n",
       "...                                                  ...      ...\n",
       "27568                           a/k/a Tommy Chong (2005)       44\n",
       "27569                       differently, Molussia (2012)        2\n",
       "27570                                      eCupid (2011)        5\n",
       "27571                                    eXistenZ (1999)     5976\n",
       "27572                                    iMurders (2008)        3\n",
       "27573                                      iSteve (2013)        9\n",
       "27574      loudQUIETloud: A Film About the Pixies (2006)      111\n",
       "27575                                    unINDIAN (2015)        2\n",
       "27576                                         xXx (2002)     5591\n",
       "27577                     xXx: State of the Union (2005)      986\n",
       "27578                                   ¡Cuba Sí! (1961)        2\n",
       "27579                                 ¡Qué hacer! (1970)        3\n",
       "27580                              ¡Three Amigos! (1986)     7510\n",
       "27581                       ¡Vivan las Antipodas! (2011)        2\n",
       "27582                                À l'aventure (2008)       10\n",
       "27583                                À nos amours (1983)       30\n",
       "27584                            À propos de Nice (1930)       16\n",
       "27585                                 Árido Movie (2005)        4\n",
       "27586                                   Äkkilähtö (2016)        4\n",
       "27587               Åsa-Nisse - Wälkom to Knohult (2011)        3\n",
       "27588                                    Ó Paí, Ó (2007)        5\n",
       "27589                                    Ödipussi (1988)        3\n",
       "27590                                  Üvegtigris (2001)        5\n",
       "27591                                İtirazım Var (2014)        7\n",
       "27592                                       Мафия (2016)        3\n",
       "27593             …And the Fifth Horseman Is Fear (1965)        2\n",
       "27594                                        キサラギ (2007)        2\n",
       "27595                      ドラゴンボール Ｚ あつまれ！ 悟空ワールド (1992)        5\n",
       "27596                                        貞子3D (2012)        5\n",
       "27597                                        줄탁동시 (2012)        2\n",
       "\n",
       "[27598 rows x 2 columns]"
      ]
     },
     "execution_count": 5,
     "metadata": {},
     "output_type": "execute_result"
    }
   ],
   "source": [
    "movieId_count.reset_index()"
   ]
  },
  {
   "cell_type": "code",
   "execution_count": 24,
   "metadata": {
    "collapsed": false
   },
   "outputs": [
    {
     "data": {
      "text/plain": [
       "(27598, 1)"
      ]
     },
     "execution_count": 24,
     "metadata": {},
     "output_type": "execute_result"
    }
   ],
   "source": [
    "movieId_count.shape"
   ]
  },
  {
   "cell_type": "code",
   "execution_count": 6,
   "metadata": {
    "collapsed": false
   },
   "outputs": [],
   "source": [
    "movieId_count = movieId_count[movieId_count.movieId >= 10].reset_index()"
   ]
  },
  {
   "cell_type": "code",
   "execution_count": 7,
   "metadata": {
    "collapsed": false
   },
   "outputs": [
    {
     "data": {
      "text/plain": [
       "(16098, 2)"
      ]
     },
     "execution_count": 7,
     "metadata": {},
     "output_type": "execute_result"
    }
   ],
   "source": [
    "movieId_count.shape"
   ]
  },
  {
   "cell_type": "code",
   "execution_count": 11,
   "metadata": {
    "collapsed": false
   },
   "outputs": [
    {
     "data": {
      "text/plain": [
       "11500"
      ]
     },
     "execution_count": 11,
     "metadata": {},
     "output_type": "execute_result"
    }
   ],
   "source": [
    "27598 - 16098"
   ]
  },
  {
   "cell_type": "markdown",
   "metadata": {},
   "source": [
    "#### 11 500 movies were rated less than 10 times."
   ]
  },
  {
   "cell_type": "code",
   "execution_count": 12,
   "metadata": {
    "collapsed": false
   },
   "outputs": [
    {
     "data": {
      "text/html": [
       "<div>\n",
       "<table border=\"1\" class=\"dataframe\">\n",
       "  <thead>\n",
       "    <tr style=\"text-align: right;\">\n",
       "      <th></th>\n",
       "      <th>title</th>\n",
       "      <th>movieId</th>\n",
       "    </tr>\n",
       "  </thead>\n",
       "  <tbody>\n",
       "    <tr>\n",
       "      <th>0</th>\n",
       "      <td>\"Great Performances\" Cats (1998)</td>\n",
       "      <td>211</td>\n",
       "    </tr>\n",
       "    <tr>\n",
       "      <th>1</th>\n",
       "      <td>$5 a Day (2008)</td>\n",
       "      <td>53</td>\n",
       "    </tr>\n",
       "    <tr>\n",
       "      <th>2</th>\n",
       "      <td>$9.99 (2008)</td>\n",
       "      <td>65</td>\n",
       "    </tr>\n",
       "    <tr>\n",
       "      <th>3</th>\n",
       "      <td>'71 (2014)</td>\n",
       "      <td>193</td>\n",
       "    </tr>\n",
       "    <tr>\n",
       "      <th>4</th>\n",
       "      <td>'Hellboy': The Seeds of Creation (2004)</td>\n",
       "      <td>110</td>\n",
       "    </tr>\n",
       "  </tbody>\n",
       "</table>\n",
       "</div>"
      ],
      "text/plain": [
       "                                     title  movieId\n",
       "0         \"Great Performances\" Cats (1998)      211\n",
       "1                          $5 a Day (2008)       53\n",
       "2                             $9.99 (2008)       65\n",
       "3                               '71 (2014)      193\n",
       "4  'Hellboy': The Seeds of Creation (2004)      110"
      ]
     },
     "execution_count": 12,
     "metadata": {},
     "output_type": "execute_result"
    }
   ],
   "source": [
    "movieId_count.head()"
   ]
  },
  {
   "cell_type": "code",
   "execution_count": 7,
   "metadata": {
    "collapsed": true
   },
   "outputs": [],
   "source": [
    "movieId_count['movieId_count'] = movieId_count['movieId']\n",
    "del movieId_count['movieId']"
   ]
  },
  {
   "cell_type": "code",
   "execution_count": 8,
   "metadata": {
    "collapsed": false
   },
   "outputs": [],
   "source": [
    "ratings_movies_user = ratings_movies_user.merge(movieId_count, how='right', left_on='title', right_on='title')"
   ]
  },
  {
   "cell_type": "code",
   "execution_count": 10,
   "metadata": {
    "collapsed": false
   },
   "outputs": [
    {
     "data": {
      "text/plain": [
       "(22638988, 30)"
      ]
     },
     "execution_count": 10,
     "metadata": {},
     "output_type": "execute_result"
    }
   ],
   "source": [
    "ratings_movies_user.shape"
   ]
  },
  {
   "cell_type": "code",
   "execution_count": 16,
   "metadata": {
    "collapsed": false
   },
   "outputs": [
    {
     "data": {
      "text/plain": [
       "46703"
      ]
     },
     "execution_count": 16,
     "metadata": {},
     "output_type": "execute_result"
    }
   ],
   "source": [
    "22685691 - 22638988"
   ]
  },
  {
   "cell_type": "code",
   "execution_count": 17,
   "metadata": {
    "collapsed": false
   },
   "outputs": [
    {
     "data": {
      "text/html": [
       "<div>\n",
       "<table border=\"1\" class=\"dataframe\">\n",
       "  <thead>\n",
       "    <tr style=\"text-align: right;\">\n",
       "      <th></th>\n",
       "      <th>Unnamed: 0</th>\n",
       "      <th>userId</th>\n",
       "      <th>movieId</th>\n",
       "      <th>rating_x</th>\n",
       "      <th>ratings_count</th>\n",
       "      <th>ratings_mean</th>\n",
       "      <th>title</th>\n",
       "      <th>genres</th>\n",
       "      <th>COMEDY</th>\n",
       "      <th>DRAMA</th>\n",
       "      <th>...</th>\n",
       "      <th>FILM-NOIR</th>\n",
       "      <th>MUSICAL</th>\n",
       "      <th>SCI-FI</th>\n",
       "      <th>MYSTERY</th>\n",
       "      <th>WAR</th>\n",
       "      <th>Year</th>\n",
       "      <th>title_list</th>\n",
       "      <th>user_avg_rating</th>\n",
       "      <th>rating_mean_stand</th>\n",
       "      <th>movieId_count</th>\n",
       "    </tr>\n",
       "  </thead>\n",
       "  <tbody>\n",
       "    <tr>\n",
       "      <th>0</th>\n",
       "      <td>0</td>\n",
       "      <td>1</td>\n",
       "      <td>122</td>\n",
       "      <td>2.0</td>\n",
       "      <td>4060.0</td>\n",
       "      <td>2.862931</td>\n",
       "      <td>Boomerang (1992)</td>\n",
       "      <td>Comedy|Romance</td>\n",
       "      <td>1.0</td>\n",
       "      <td>0.0</td>\n",
       "      <td>...</td>\n",
       "      <td>0.0</td>\n",
       "      <td>0.0</td>\n",
       "      <td>0.0</td>\n",
       "      <td>0.0</td>\n",
       "      <td>0.0</td>\n",
       "      <td>1992.0</td>\n",
       "      <td>['Boomerang']</td>\n",
       "      <td>2.666667</td>\n",
       "      <td>-0.666667</td>\n",
       "      <td>4060</td>\n",
       "    </tr>\n",
       "    <tr>\n",
       "      <th>1</th>\n",
       "      <td>3127</td>\n",
       "      <td>45</td>\n",
       "      <td>122</td>\n",
       "      <td>1.0</td>\n",
       "      <td>4060.0</td>\n",
       "      <td>2.862931</td>\n",
       "      <td>Boomerang (1992)</td>\n",
       "      <td>Comedy|Romance</td>\n",
       "      <td>1.0</td>\n",
       "      <td>0.0</td>\n",
       "      <td>...</td>\n",
       "      <td>0.0</td>\n",
       "      <td>0.0</td>\n",
       "      <td>0.0</td>\n",
       "      <td>0.0</td>\n",
       "      <td>0.0</td>\n",
       "      <td>1992.0</td>\n",
       "      <td>['Boomerang']</td>\n",
       "      <td>2.448630</td>\n",
       "      <td>-1.448630</td>\n",
       "      <td>4060</td>\n",
       "    </tr>\n",
       "    <tr>\n",
       "      <th>2</th>\n",
       "      <td>7598</td>\n",
       "      <td>103</td>\n",
       "      <td>122</td>\n",
       "      <td>3.0</td>\n",
       "      <td>4060.0</td>\n",
       "      <td>2.862931</td>\n",
       "      <td>Boomerang (1992)</td>\n",
       "      <td>Comedy|Romance</td>\n",
       "      <td>1.0</td>\n",
       "      <td>0.0</td>\n",
       "      <td>...</td>\n",
       "      <td>0.0</td>\n",
       "      <td>0.0</td>\n",
       "      <td>0.0</td>\n",
       "      <td>0.0</td>\n",
       "      <td>0.0</td>\n",
       "      <td>1992.0</td>\n",
       "      <td>['Boomerang']</td>\n",
       "      <td>3.431373</td>\n",
       "      <td>-0.431373</td>\n",
       "      <td>4060</td>\n",
       "    </tr>\n",
       "    <tr>\n",
       "      <th>3</th>\n",
       "      <td>9679</td>\n",
       "      <td>135</td>\n",
       "      <td>122</td>\n",
       "      <td>3.0</td>\n",
       "      <td>4060.0</td>\n",
       "      <td>2.862931</td>\n",
       "      <td>Boomerang (1992)</td>\n",
       "      <td>Comedy|Romance</td>\n",
       "      <td>1.0</td>\n",
       "      <td>0.0</td>\n",
       "      <td>...</td>\n",
       "      <td>0.0</td>\n",
       "      <td>0.0</td>\n",
       "      <td>0.0</td>\n",
       "      <td>0.0</td>\n",
       "      <td>0.0</td>\n",
       "      <td>1992.0</td>\n",
       "      <td>['Boomerang']</td>\n",
       "      <td>3.491667</td>\n",
       "      <td>-0.491667</td>\n",
       "      <td>4060</td>\n",
       "    </tr>\n",
       "    <tr>\n",
       "      <th>4</th>\n",
       "      <td>12366</td>\n",
       "      <td>159</td>\n",
       "      <td>122</td>\n",
       "      <td>4.0</td>\n",
       "      <td>4060.0</td>\n",
       "      <td>2.862931</td>\n",
       "      <td>Boomerang (1992)</td>\n",
       "      <td>Comedy|Romance</td>\n",
       "      <td>1.0</td>\n",
       "      <td>0.0</td>\n",
       "      <td>...</td>\n",
       "      <td>0.0</td>\n",
       "      <td>0.0</td>\n",
       "      <td>0.0</td>\n",
       "      <td>0.0</td>\n",
       "      <td>0.0</td>\n",
       "      <td>1992.0</td>\n",
       "      <td>['Boomerang']</td>\n",
       "      <td>3.559420</td>\n",
       "      <td>0.440580</td>\n",
       "      <td>4060</td>\n",
       "    </tr>\n",
       "  </tbody>\n",
       "</table>\n",
       "<p>5 rows × 30 columns</p>\n",
       "</div>"
      ],
      "text/plain": [
       "   Unnamed: 0  userId  movieId  rating_x  ratings_count  ratings_mean  \\\n",
       "0           0       1      122       2.0         4060.0      2.862931   \n",
       "1        3127      45      122       1.0         4060.0      2.862931   \n",
       "2        7598     103      122       3.0         4060.0      2.862931   \n",
       "3        9679     135      122       3.0         4060.0      2.862931   \n",
       "4       12366     159      122       4.0         4060.0      2.862931   \n",
       "\n",
       "              title          genres  COMEDY  DRAMA      ...        FILM-NOIR  \\\n",
       "0  Boomerang (1992)  Comedy|Romance     1.0    0.0      ...              0.0   \n",
       "1  Boomerang (1992)  Comedy|Romance     1.0    0.0      ...              0.0   \n",
       "2  Boomerang (1992)  Comedy|Romance     1.0    0.0      ...              0.0   \n",
       "3  Boomerang (1992)  Comedy|Romance     1.0    0.0      ...              0.0   \n",
       "4  Boomerang (1992)  Comedy|Romance     1.0    0.0      ...              0.0   \n",
       "\n",
       "   MUSICAL  SCI-FI  MYSTERY  WAR    Year     title_list  user_avg_rating  \\\n",
       "0      0.0     0.0      0.0  0.0  1992.0  ['Boomerang']         2.666667   \n",
       "1      0.0     0.0      0.0  0.0  1992.0  ['Boomerang']         2.448630   \n",
       "2      0.0     0.0      0.0  0.0  1992.0  ['Boomerang']         3.431373   \n",
       "3      0.0     0.0      0.0  0.0  1992.0  ['Boomerang']         3.491667   \n",
       "4      0.0     0.0      0.0  0.0  1992.0  ['Boomerang']         3.559420   \n",
       "\n",
       "   rating_mean_stand  movieId_count  \n",
       "0          -0.666667           4060  \n",
       "1          -1.448630           4060  \n",
       "2          -0.431373           4060  \n",
       "3          -0.491667           4060  \n",
       "4           0.440580           4060  \n",
       "\n",
       "[5 rows x 30 columns]"
      ]
     },
     "execution_count": 17,
     "metadata": {},
     "output_type": "execute_result"
    }
   ],
   "source": [
    "ratings_movies_user.head()"
   ]
  },
  {
   "cell_type": "markdown",
   "metadata": {},
   "source": [
    "#### New dataframe without 46 703 rows for movies that were rated less than 10 times."
   ]
  },
  {
   "cell_type": "markdown",
   "metadata": {},
   "source": [
    "### Make a new dataframe to have only the higest rated and lowest rated movies for each user:"
   ]
  },
  {
   "cell_type": "code",
   "execution_count": 18,
   "metadata": {
    "collapsed": false
   },
   "outputs": [],
   "source": [
    "user_high = ratings_movies_user.groupby(['userId'])['rating_mean_stand'].max()"
   ]
  },
  {
   "cell_type": "code",
   "execution_count": 19,
   "metadata": {
    "collapsed": false
   },
   "outputs": [],
   "source": [
    "user_high = pd.DataFrame(user_high)"
   ]
  },
  {
   "cell_type": "code",
   "execution_count": 20,
   "metadata": {
    "collapsed": true
   },
   "outputs": [],
   "source": [
    "user_low =  ratings_movies_user.groupby(['userId'])['rating_mean_stand'].min()"
   ]
  },
  {
   "cell_type": "code",
   "execution_count": 21,
   "metadata": {
    "collapsed": true
   },
   "outputs": [],
   "source": [
    "user_low = pd.DataFrame(user_low)"
   ]
  },
  {
   "cell_type": "code",
   "execution_count": 22,
   "metadata": {
    "collapsed": false
   },
   "outputs": [
    {
     "data": {
      "text/html": [
       "<div>\n",
       "<table border=\"1\" class=\"dataframe\">\n",
       "  <thead>\n",
       "    <tr style=\"text-align: right;\">\n",
       "      <th></th>\n",
       "      <th>rating_mean_stand</th>\n",
       "    </tr>\n",
       "    <tr>\n",
       "      <th>userId</th>\n",
       "      <th></th>\n",
       "    </tr>\n",
       "  </thead>\n",
       "  <tbody>\n",
       "    <tr>\n",
       "      <th>1</th>\n",
       "      <td>2.333333</td>\n",
       "    </tr>\n",
       "    <tr>\n",
       "      <th>2</th>\n",
       "      <td>1.400000</td>\n",
       "    </tr>\n",
       "    <tr>\n",
       "      <th>3</th>\n",
       "      <td>1.655738</td>\n",
       "    </tr>\n",
       "    <tr>\n",
       "      <th>4</th>\n",
       "      <td>0.000000</td>\n",
       "    </tr>\n",
       "    <tr>\n",
       "      <th>5</th>\n",
       "      <td>1.074074</td>\n",
       "    </tr>\n",
       "  </tbody>\n",
       "</table>\n",
       "</div>"
      ],
      "text/plain": [
       "        rating_mean_stand\n",
       "userId                   \n",
       "1                2.333333\n",
       "2                1.400000\n",
       "3                1.655738\n",
       "4                0.000000\n",
       "5                1.074074"
      ]
     },
     "execution_count": 22,
     "metadata": {},
     "output_type": "execute_result"
    }
   ],
   "source": [
    "user_high.head()"
   ]
  },
  {
   "cell_type": "code",
   "execution_count": 23,
   "metadata": {
    "collapsed": false
   },
   "outputs": [
    {
     "data": {
      "text/html": [
       "<div>\n",
       "<table border=\"1\" class=\"dataframe\">\n",
       "  <thead>\n",
       "    <tr style=\"text-align: right;\">\n",
       "      <th></th>\n",
       "      <th>rating_mean_stand</th>\n",
       "    </tr>\n",
       "    <tr>\n",
       "      <th>userId</th>\n",
       "      <th></th>\n",
       "    </tr>\n",
       "  </thead>\n",
       "  <tbody>\n",
       "    <tr>\n",
       "      <th>1</th>\n",
       "      <td>-1.666667</td>\n",
       "    </tr>\n",
       "    <tr>\n",
       "      <th>2</th>\n",
       "      <td>-1.600000</td>\n",
       "    </tr>\n",
       "    <tr>\n",
       "      <th>3</th>\n",
       "      <td>-2.344262</td>\n",
       "    </tr>\n",
       "    <tr>\n",
       "      <th>4</th>\n",
       "      <td>0.000000</td>\n",
       "    </tr>\n",
       "    <tr>\n",
       "      <th>5</th>\n",
       "      <td>-2.925926</td>\n",
       "    </tr>\n",
       "  </tbody>\n",
       "</table>\n",
       "</div>"
      ],
      "text/plain": [
       "        rating_mean_stand\n",
       "userId                   \n",
       "1               -1.666667\n",
       "2               -1.600000\n",
       "3               -2.344262\n",
       "4                0.000000\n",
       "5               -2.925926"
      ]
     },
     "execution_count": 23,
     "metadata": {},
     "output_type": "execute_result"
    }
   ],
   "source": [
    "user_low.head()"
   ]
  },
  {
   "cell_type": "code",
   "execution_count": 9,
   "metadata": {
    "collapsed": true
   },
   "outputs": [],
   "source": [
    "tags = pd.read_csv('/Users/katerinacapouskova/Desktop/DSI-SF-4-katerinaC/Projects/Capstone/Movies/ml-latest/tags.csv')"
   ]
  },
  {
   "cell_type": "code",
   "execution_count": 19,
   "metadata": {
    "collapsed": false
   },
   "outputs": [
    {
     "data": {
      "text/html": [
       "<div>\n",
       "<table border=\"1\" class=\"dataframe\">\n",
       "  <thead>\n",
       "    <tr style=\"text-align: right;\">\n",
       "      <th></th>\n",
       "      <th>userId</th>\n",
       "      <th>movieId</th>\n",
       "      <th>tag</th>\n",
       "      <th>timestamp</th>\n",
       "    </tr>\n",
       "  </thead>\n",
       "  <tbody>\n",
       "    <tr>\n",
       "      <th>0</th>\n",
       "      <td>28</td>\n",
       "      <td>63062</td>\n",
       "      <td>angelina jolie</td>\n",
       "      <td>1263047558</td>\n",
       "    </tr>\n",
       "    <tr>\n",
       "      <th>1</th>\n",
       "      <td>40</td>\n",
       "      <td>4973</td>\n",
       "      <td>Poetic</td>\n",
       "      <td>1436439070</td>\n",
       "    </tr>\n",
       "    <tr>\n",
       "      <th>2</th>\n",
       "      <td>40</td>\n",
       "      <td>117533</td>\n",
       "      <td>privacy</td>\n",
       "      <td>1436439140</td>\n",
       "    </tr>\n",
       "    <tr>\n",
       "      <th>3</th>\n",
       "      <td>57</td>\n",
       "      <td>356</td>\n",
       "      <td>life positive</td>\n",
       "      <td>1291771526</td>\n",
       "    </tr>\n",
       "    <tr>\n",
       "      <th>4</th>\n",
       "      <td>73</td>\n",
       "      <td>81591</td>\n",
       "      <td>psychological</td>\n",
       "      <td>1296948434</td>\n",
       "    </tr>\n",
       "  </tbody>\n",
       "</table>\n",
       "</div>"
      ],
      "text/plain": [
       "   userId  movieId             tag   timestamp\n",
       "0      28    63062  angelina jolie  1263047558\n",
       "1      40     4973          Poetic  1436439070\n",
       "2      40   117533         privacy  1436439140\n",
       "3      57      356   life positive  1291771526\n",
       "4      73    81591   psychological  1296948434"
      ]
     },
     "execution_count": 19,
     "metadata": {},
     "output_type": "execute_result"
    }
   ],
   "source": [
    "tags.head()"
   ]
  },
  {
   "cell_type": "markdown",
   "metadata": {},
   "source": [
    "### Merge with the tags dataframe to have movies meta-data:"
   ]
  },
  {
   "cell_type": "markdown",
   "metadata": {},
   "source": [
    "#### See how many movies have a tag there"
   ]
  },
  {
   "cell_type": "code",
   "execution_count": 25,
   "metadata": {
    "collapsed": false
   },
   "outputs": [
    {
     "data": {
      "text/plain": [
       "23743"
      ]
     },
     "execution_count": 25,
     "metadata": {},
     "output_type": "execute_result"
    }
   ],
   "source": [
    "len(tags.movieId.unique())"
   ]
  },
  {
   "cell_type": "code",
   "execution_count": 28,
   "metadata": {
    "collapsed": false
   },
   "outputs": [
    {
     "data": {
      "text/html": [
       "<div>\n",
       "<table border=\"1\" class=\"dataframe\">\n",
       "  <thead>\n",
       "    <tr style=\"text-align: right;\">\n",
       "      <th></th>\n",
       "      <th>Unnamed: 0</th>\n",
       "      <th>userId</th>\n",
       "      <th>movieId</th>\n",
       "      <th>rating_x</th>\n",
       "      <th>ratings_count</th>\n",
       "      <th>ratings_mean</th>\n",
       "      <th>title</th>\n",
       "      <th>genres</th>\n",
       "      <th>COMEDY</th>\n",
       "      <th>DRAMA</th>\n",
       "      <th>...</th>\n",
       "      <th>FILM-NOIR</th>\n",
       "      <th>MUSICAL</th>\n",
       "      <th>SCI-FI</th>\n",
       "      <th>MYSTERY</th>\n",
       "      <th>WAR</th>\n",
       "      <th>Year</th>\n",
       "      <th>title_list</th>\n",
       "      <th>user_avg_rating</th>\n",
       "      <th>rating_mean_stand</th>\n",
       "      <th>movieId_count</th>\n",
       "    </tr>\n",
       "  </thead>\n",
       "  <tbody>\n",
       "    <tr>\n",
       "      <th>0</th>\n",
       "      <td>0</td>\n",
       "      <td>1</td>\n",
       "      <td>122</td>\n",
       "      <td>2.0</td>\n",
       "      <td>4060.0</td>\n",
       "      <td>2.862931</td>\n",
       "      <td>Boomerang (1992)</td>\n",
       "      <td>Comedy|Romance</td>\n",
       "      <td>1.0</td>\n",
       "      <td>0.0</td>\n",
       "      <td>...</td>\n",
       "      <td>0.0</td>\n",
       "      <td>0.0</td>\n",
       "      <td>0.0</td>\n",
       "      <td>0.0</td>\n",
       "      <td>0.0</td>\n",
       "      <td>1992.0</td>\n",
       "      <td>['Boomerang']</td>\n",
       "      <td>2.666667</td>\n",
       "      <td>-0.666667</td>\n",
       "      <td>4060</td>\n",
       "    </tr>\n",
       "    <tr>\n",
       "      <th>1</th>\n",
       "      <td>3127</td>\n",
       "      <td>45</td>\n",
       "      <td>122</td>\n",
       "      <td>1.0</td>\n",
       "      <td>4060.0</td>\n",
       "      <td>2.862931</td>\n",
       "      <td>Boomerang (1992)</td>\n",
       "      <td>Comedy|Romance</td>\n",
       "      <td>1.0</td>\n",
       "      <td>0.0</td>\n",
       "      <td>...</td>\n",
       "      <td>0.0</td>\n",
       "      <td>0.0</td>\n",
       "      <td>0.0</td>\n",
       "      <td>0.0</td>\n",
       "      <td>0.0</td>\n",
       "      <td>1992.0</td>\n",
       "      <td>['Boomerang']</td>\n",
       "      <td>2.448630</td>\n",
       "      <td>-1.448630</td>\n",
       "      <td>4060</td>\n",
       "    </tr>\n",
       "  </tbody>\n",
       "</table>\n",
       "<p>2 rows × 30 columns</p>\n",
       "</div>"
      ],
      "text/plain": [
       "   Unnamed: 0  userId  movieId  rating_x  ratings_count  ratings_mean  \\\n",
       "0           0       1      122       2.0         4060.0      2.862931   \n",
       "1        3127      45      122       1.0         4060.0      2.862931   \n",
       "\n",
       "              title          genres  COMEDY  DRAMA      ...        FILM-NOIR  \\\n",
       "0  Boomerang (1992)  Comedy|Romance     1.0    0.0      ...              0.0   \n",
       "1  Boomerang (1992)  Comedy|Romance     1.0    0.0      ...              0.0   \n",
       "\n",
       "   MUSICAL  SCI-FI  MYSTERY  WAR    Year     title_list  user_avg_rating  \\\n",
       "0      0.0     0.0      0.0  0.0  1992.0  ['Boomerang']         2.666667   \n",
       "1      0.0     0.0      0.0  0.0  1992.0  ['Boomerang']         2.448630   \n",
       "\n",
       "   rating_mean_stand  movieId_count  \n",
       "0          -0.666667           4060  \n",
       "1          -1.448630           4060  \n",
       "\n",
       "[2 rows x 30 columns]"
      ]
     },
     "execution_count": 28,
     "metadata": {},
     "output_type": "execute_result"
    }
   ],
   "source": [
    "ratings_movies_user.head(2)"
   ]
  },
  {
   "cell_type": "markdown",
   "metadata": {},
   "source": [
    "#### Get rid of some columns to make smaller:"
   ]
  },
  {
   "cell_type": "code",
   "execution_count": 10,
   "metadata": {
    "collapsed": false
   },
   "outputs": [],
   "source": [
    "df = ratings_movies_user.drop(['Unnamed: 0', 'ratings_count', 'COMEDY', 'DRAMA', 'CRIME', 'FANTASY', 'FILM-NOIR', \n",
    "        'MUSICAL', 'SCI-FI', 'MYSTERY', 'WAR', 'Year', 'title_list', 'movieId_count',\n",
    "                         'THRILLER', 'WESTERN', 'ROMANCE', 'ADVENTURE', 'ANIMATION',\n",
    "        'CHILDRENS', 'DOCUMENTARY', 'HORROR'], axis=1)"
   ]
  },
  {
   "cell_type": "code",
   "execution_count": 11,
   "metadata": {
    "collapsed": false
   },
   "outputs": [
    {
     "data": {
      "text/plain": [
       "(22638988, 8)"
      ]
     },
     "execution_count": 11,
     "metadata": {},
     "output_type": "execute_result"
    }
   ],
   "source": [
    "df.shape"
   ]
  },
  {
   "cell_type": "code",
   "execution_count": 12,
   "metadata": {
    "collapsed": true
   },
   "outputs": [],
   "source": [
    "df.to_csv('movies_ratings_user_stripped.csv') "
   ]
  }
 ],
 "metadata": {
  "anaconda-cloud": {},
  "kernelspec": {
   "display_name": "Python [conda env:dsi]",
   "language": "python",
   "name": "conda-env-dsi-py"
  },
  "language_info": {
   "codemirror_mode": {
    "name": "ipython",
    "version": 2
   },
   "file_extension": ".py",
   "mimetype": "text/x-python",
   "name": "python",
   "nbconvert_exporter": "python",
   "pygments_lexer": "ipython2",
   "version": "2.7.12"
  }
 },
 "nbformat": 4,
 "nbformat_minor": 1
}

{
 "cells": [
  {
   "cell_type": "code",
   "execution_count": 21,
   "metadata": {
    "collapsed": true
   },
   "outputs": [],
   "source": [
    "import numpy as np\n",
    "import scipy.stats as stats\n",
    "import seaborn as sns\n",
    "import matplotlib.pyplot as plt\n",
    "import pandas as pd\n",
    "\n",
    "sns.set_style('whitegrid')\n",
    "\n",
    "%config InlineBackend.figure_format = 'retina'\n",
    "%matplotlib inline"
   ]
  },
  {
   "cell_type": "code",
   "execution_count": 22,
   "metadata": {
    "collapsed": false
   },
   "outputs": [],
   "source": [
    "movies = pd.read_csv('/Users/katerinacapouskova/Desktop/DSI-SF-4-katerinaC/Projects/Capstone/Movies/ml-latest/movies_new.csv')"
   ]
  },
  {
   "cell_type": "code",
   "execution_count": 23,
   "metadata": {
    "collapsed": true
   },
   "outputs": [],
   "source": [
    "ratings = pd.read_csv(\"/Users/katerinacapouskova/Desktop/DSI-SF-4-katerinaC/Projects/Capstone/Movies/ml-latest/ratings.csv\")"
   ]
  },
  {
   "cell_type": "code",
   "execution_count": 24,
   "metadata": {
    "collapsed": true
   },
   "outputs": [],
   "source": [
    "ratings_movies = ratings.merge(movies, how='left', left_on='movieId', right_on='movieId')\n"
   ]
  },
  {
   "cell_type": "code",
   "execution_count": 25,
   "metadata": {
    "collapsed": false
   },
   "outputs": [
    {
     "data": {
      "text/plain": [
       "(24404096, 28)"
      ]
     },
     "execution_count": 25,
     "metadata": {},
     "output_type": "execute_result"
    }
   ],
   "source": [
    "ratings_movies.shape"
   ]
  },
  {
   "cell_type": "markdown",
   "metadata": {},
   "source": [
    "#### Remove missing data:"
   ]
  },
  {
   "cell_type": "code",
   "execution_count": 26,
   "metadata": {
    "collapsed": true
   },
   "outputs": [],
   "source": [
    "ratings_movies.dropna(inplace=True)"
   ]
  },
  {
   "cell_type": "code",
   "execution_count": 27,
   "metadata": {
    "collapsed": false
   },
   "outputs": [
    {
     "data": {
      "text/plain": [
       "(22685691, 28)"
      ]
     },
     "execution_count": 27,
     "metadata": {},
     "output_type": "execute_result"
    }
   ],
   "source": [
    "ratings_movies.shape"
   ]
  },
  {
   "cell_type": "code",
   "execution_count": 28,
   "metadata": {
    "collapsed": false
   },
   "outputs": [
    {
     "data": {
      "text/html": [
       "<div>\n",
       "<table border=\"1\" class=\"dataframe\">\n",
       "  <thead>\n",
       "    <tr style=\"text-align: right;\">\n",
       "      <th></th>\n",
       "      <th>userId</th>\n",
       "      <th>movieId</th>\n",
       "      <th>rating</th>\n",
       "      <th>timestamp</th>\n",
       "      <th>Unnamed: 0</th>\n",
       "      <th>ratings_count</th>\n",
       "      <th>ratings_mean</th>\n",
       "      <th>title</th>\n",
       "      <th>genres</th>\n",
       "      <th>COMEDY</th>\n",
       "      <th>...</th>\n",
       "      <th>CHILDRENS</th>\n",
       "      <th>CRIME</th>\n",
       "      <th>FANTASY</th>\n",
       "      <th>FILM-NOIR</th>\n",
       "      <th>MUSICAL</th>\n",
       "      <th>SCI-FI</th>\n",
       "      <th>MYSTERY</th>\n",
       "      <th>WAR</th>\n",
       "      <th>Year</th>\n",
       "      <th>title_list</th>\n",
       "    </tr>\n",
       "  </thead>\n",
       "  <tbody>\n",
       "    <tr>\n",
       "      <th>0</th>\n",
       "      <td>1</td>\n",
       "      <td>122</td>\n",
       "      <td>2.0</td>\n",
       "      <td>945544824</td>\n",
       "      <td>120.0</td>\n",
       "      <td>4060.0</td>\n",
       "      <td>2.862931</td>\n",
       "      <td>Boomerang (1992)</td>\n",
       "      <td>Comedy|Romance</td>\n",
       "      <td>1.0</td>\n",
       "      <td>...</td>\n",
       "      <td>0.0</td>\n",
       "      <td>0.0</td>\n",
       "      <td>0.0</td>\n",
       "      <td>0.0</td>\n",
       "      <td>0.0</td>\n",
       "      <td>0.0</td>\n",
       "      <td>0.0</td>\n",
       "      <td>0.0</td>\n",
       "      <td>1992.0</td>\n",
       "      <td>['Boomerang']</td>\n",
       "    </tr>\n",
       "    <tr>\n",
       "      <th>1</th>\n",
       "      <td>1</td>\n",
       "      <td>172</td>\n",
       "      <td>1.0</td>\n",
       "      <td>945544871</td>\n",
       "      <td>170.0</td>\n",
       "      <td>14078.0</td>\n",
       "      <td>2.742542</td>\n",
       "      <td>Johnny Mnemonic (1995)</td>\n",
       "      <td>Action|Sci-Fi|Thriller</td>\n",
       "      <td>0.0</td>\n",
       "      <td>...</td>\n",
       "      <td>0.0</td>\n",
       "      <td>0.0</td>\n",
       "      <td>0.0</td>\n",
       "      <td>0.0</td>\n",
       "      <td>0.0</td>\n",
       "      <td>1.0</td>\n",
       "      <td>0.0</td>\n",
       "      <td>0.0</td>\n",
       "      <td>1995.0</td>\n",
       "      <td>['Johnny', 'Mnemonic']</td>\n",
       "    </tr>\n",
       "    <tr>\n",
       "      <th>2</th>\n",
       "      <td>1</td>\n",
       "      <td>1221</td>\n",
       "      <td>5.0</td>\n",
       "      <td>945544788</td>\n",
       "      <td>1195.0</td>\n",
       "      <td>34508.0</td>\n",
       "      <td>4.263098</td>\n",
       "      <td>Godfather: Part II, The (1974)</td>\n",
       "      <td>Crime|Drama</td>\n",
       "      <td>0.0</td>\n",
       "      <td>...</td>\n",
       "      <td>0.0</td>\n",
       "      <td>1.0</td>\n",
       "      <td>0.0</td>\n",
       "      <td>0.0</td>\n",
       "      <td>0.0</td>\n",
       "      <td>0.0</td>\n",
       "      <td>0.0</td>\n",
       "      <td>0.0</td>\n",
       "      <td>1974.0</td>\n",
       "      <td>['Godfather:', 'Part', 'II,', 'The']</td>\n",
       "    </tr>\n",
       "    <tr>\n",
       "      <th>3</th>\n",
       "      <td>1</td>\n",
       "      <td>1441</td>\n",
       "      <td>4.0</td>\n",
       "      <td>945544871</td>\n",
       "      <td>1406.0</td>\n",
       "      <td>6723.0</td>\n",
       "      <td>3.544102</td>\n",
       "      <td>Benny &amp; Joon (1993)</td>\n",
       "      <td>Comedy|Romance</td>\n",
       "      <td>1.0</td>\n",
       "      <td>...</td>\n",
       "      <td>0.0</td>\n",
       "      <td>0.0</td>\n",
       "      <td>0.0</td>\n",
       "      <td>0.0</td>\n",
       "      <td>0.0</td>\n",
       "      <td>0.0</td>\n",
       "      <td>0.0</td>\n",
       "      <td>0.0</td>\n",
       "      <td>1993.0</td>\n",
       "      <td>['Benny', '&amp;', 'Joon']</td>\n",
       "    </tr>\n",
       "    <tr>\n",
       "      <th>5</th>\n",
       "      <td>1</td>\n",
       "      <td>1961</td>\n",
       "      <td>3.0</td>\n",
       "      <td>945544871</td>\n",
       "      <td>1878.0</td>\n",
       "      <td>29790.0</td>\n",
       "      <td>3.911195</td>\n",
       "      <td>Rain Man (1988)</td>\n",
       "      <td>Drama</td>\n",
       "      <td>0.0</td>\n",
       "      <td>...</td>\n",
       "      <td>0.0</td>\n",
       "      <td>0.0</td>\n",
       "      <td>0.0</td>\n",
       "      <td>0.0</td>\n",
       "      <td>0.0</td>\n",
       "      <td>0.0</td>\n",
       "      <td>0.0</td>\n",
       "      <td>0.0</td>\n",
       "      <td>1988.0</td>\n",
       "      <td>['Rain', 'Man']</td>\n",
       "    </tr>\n",
       "  </tbody>\n",
       "</table>\n",
       "<p>5 rows × 28 columns</p>\n",
       "</div>"
      ],
      "text/plain": [
       "   userId  movieId  rating  timestamp  Unnamed: 0  ratings_count  \\\n",
       "0       1      122     2.0  945544824       120.0         4060.0   \n",
       "1       1      172     1.0  945544871       170.0        14078.0   \n",
       "2       1     1221     5.0  945544788      1195.0        34508.0   \n",
       "3       1     1441     4.0  945544871      1406.0         6723.0   \n",
       "5       1     1961     3.0  945544871      1878.0        29790.0   \n",
       "\n",
       "   ratings_mean                           title                  genres  \\\n",
       "0      2.862931                Boomerang (1992)          Comedy|Romance   \n",
       "1      2.742542          Johnny Mnemonic (1995)  Action|Sci-Fi|Thriller   \n",
       "2      4.263098  Godfather: Part II, The (1974)             Crime|Drama   \n",
       "3      3.544102             Benny & Joon (1993)          Comedy|Romance   \n",
       "5      3.911195                 Rain Man (1988)                   Drama   \n",
       "\n",
       "   COMEDY                  ...                   CHILDRENS  CRIME  FANTASY  \\\n",
       "0     1.0                  ...                         0.0    0.0      0.0   \n",
       "1     0.0                  ...                         0.0    0.0      0.0   \n",
       "2     0.0                  ...                         0.0    1.0      0.0   \n",
       "3     1.0                  ...                         0.0    0.0      0.0   \n",
       "5     0.0                  ...                         0.0    0.0      0.0   \n",
       "\n",
       "   FILM-NOIR  MUSICAL  SCI-FI  MYSTERY  WAR    Year  \\\n",
       "0        0.0      0.0     0.0      0.0  0.0  1992.0   \n",
       "1        0.0      0.0     1.0      0.0  0.0  1995.0   \n",
       "2        0.0      0.0     0.0      0.0  0.0  1974.0   \n",
       "3        0.0      0.0     0.0      0.0  0.0  1993.0   \n",
       "5        0.0      0.0     0.0      0.0  0.0  1988.0   \n",
       "\n",
       "                             title_list  \n",
       "0                         ['Boomerang']  \n",
       "1                ['Johnny', 'Mnemonic']  \n",
       "2  ['Godfather:', 'Part', 'II,', 'The']  \n",
       "3                ['Benny', '&', 'Joon']  \n",
       "5                       ['Rain', 'Man']  \n",
       "\n",
       "[5 rows x 28 columns]"
      ]
     },
     "execution_count": 28,
     "metadata": {},
     "output_type": "execute_result"
    }
   ],
   "source": [
    "ratings_movies.head()"
   ]
  },
  {
   "cell_type": "markdown",
   "metadata": {},
   "source": [
    "### Most times rated movies:"
   ]
  },
  {
   "cell_type": "code",
   "execution_count": 9,
   "metadata": {
    "collapsed": false
   },
   "outputs": [],
   "source": [
    "movie_ratings_count = pd.DataFrame(ratings_movies.groupby(['title'])['movieId'].count().reset_index())"
   ]
  },
  {
   "cell_type": "code",
   "execution_count": 10,
   "metadata": {
    "collapsed": false
   },
   "outputs": [
    {
     "data": {
      "text/html": [
       "<div>\n",
       "<table border=\"1\" class=\"dataframe\">\n",
       "  <thead>\n",
       "    <tr style=\"text-align: right;\">\n",
       "      <th></th>\n",
       "      <th>title</th>\n",
       "      <th>movieId</th>\n",
       "    </tr>\n",
       "  </thead>\n",
       "  <tbody>\n",
       "    <tr>\n",
       "      <th>0</th>\n",
       "      <td>\"Great Performances\" Cats (1998)</td>\n",
       "      <td>211</td>\n",
       "    </tr>\n",
       "    <tr>\n",
       "      <th>1</th>\n",
       "      <td>#1 Cheerleader Camp (2010)</td>\n",
       "      <td>6</td>\n",
       "    </tr>\n",
       "    <tr>\n",
       "      <th>2</th>\n",
       "      <td>#Horror (2015)</td>\n",
       "      <td>9</td>\n",
       "    </tr>\n",
       "    <tr>\n",
       "      <th>3</th>\n",
       "      <td>#chicagoGirl: The Social Network Takes on a Di...</td>\n",
       "      <td>3</td>\n",
       "    </tr>\n",
       "    <tr>\n",
       "      <th>4</th>\n",
       "      <td>$5 a Day (2008)</td>\n",
       "      <td>53</td>\n",
       "    </tr>\n",
       "  </tbody>\n",
       "</table>\n",
       "</div>"
      ],
      "text/plain": [
       "                                               title  movieId\n",
       "0                   \"Great Performances\" Cats (1998)      211\n",
       "1                         #1 Cheerleader Camp (2010)        6\n",
       "2                                     #Horror (2015)        9\n",
       "3  #chicagoGirl: The Social Network Takes on a Di...        3\n",
       "4                                    $5 a Day (2008)       53"
      ]
     },
     "execution_count": 10,
     "metadata": {},
     "output_type": "execute_result"
    }
   ],
   "source": [
    "movie_ratings_count.head()"
   ]
  },
  {
   "cell_type": "code",
   "execution_count": 11,
   "metadata": {
    "collapsed": false
   },
   "outputs": [
    {
     "name": "stderr",
     "output_type": "stream",
     "text": [
      "/Applications/anaconda/envs/dsi/lib/python2.7/site-packages/ipykernel/__main__.py:1: FutureWarning: sort(columns=....) is deprecated, use sort_values(by=.....)\n",
      "  if __name__ == '__main__':\n"
     ]
    }
   ],
   "source": [
    "most_rated = movie_ratings_count.sort(columns='movieId', axis=0, ascending=False).head(20).reset_index()"
   ]
  },
  {
   "cell_type": "code",
   "execution_count": 12,
   "metadata": {
    "collapsed": false
   },
   "outputs": [
    {
     "data": {
      "text/html": [
       "<div>\n",
       "<table border=\"1\" class=\"dataframe\">\n",
       "  <thead>\n",
       "    <tr style=\"text-align: right;\">\n",
       "      <th></th>\n",
       "      <th>index</th>\n",
       "      <th>title</th>\n",
       "      <th>movieId</th>\n",
       "    </tr>\n",
       "  </thead>\n",
       "  <tbody>\n",
       "    <tr>\n",
       "      <th>0</th>\n",
       "      <td>8659</td>\n",
       "      <td>Forrest Gump (1994)</td>\n",
       "      <td>86629</td>\n",
       "    </tr>\n",
       "    <tr>\n",
       "      <th>1</th>\n",
       "      <td>20619</td>\n",
       "      <td>Shawshank Redemption, The (1994)</td>\n",
       "      <td>84455</td>\n",
       "    </tr>\n",
       "    <tr>\n",
       "      <th>2</th>\n",
       "      <td>18662</td>\n",
       "      <td>Pulp Fiction (1994)</td>\n",
       "      <td>83523</td>\n",
       "    </tr>\n",
       "    <tr>\n",
       "      <th>3</th>\n",
       "      <td>20833</td>\n",
       "      <td>Silence of the Lambs, The (1991)</td>\n",
       "      <td>80274</td>\n",
       "    </tr>\n",
       "    <tr>\n",
       "      <th>4</th>\n",
       "      <td>21714</td>\n",
       "      <td>Star Wars: Episode IV - A New Hope (1977)</td>\n",
       "      <td>72215</td>\n",
       "    </tr>\n",
       "    <tr>\n",
       "      <th>5</th>\n",
       "      <td>12523</td>\n",
       "      <td>Jurassic Park (1993)</td>\n",
       "      <td>72147</td>\n",
       "    </tr>\n",
       "    <tr>\n",
       "      <th>6</th>\n",
       "      <td>15081</td>\n",
       "      <td>Matrix, The (1999)</td>\n",
       "      <td>71450</td>\n",
       "    </tr>\n",
       "    <tr>\n",
       "      <th>7</th>\n",
       "      <td>3679</td>\n",
       "      <td>Braveheart (1995)</td>\n",
       "      <td>63920</td>\n",
       "    </tr>\n",
       "    <tr>\n",
       "      <th>8</th>\n",
       "      <td>20161</td>\n",
       "      <td>Schindler's List (1993)</td>\n",
       "      <td>63889</td>\n",
       "    </tr>\n",
       "    <tr>\n",
       "      <th>9</th>\n",
       "      <td>25170</td>\n",
       "      <td>Toy Story (1995)</td>\n",
       "      <td>63469</td>\n",
       "    </tr>\n",
       "    <tr>\n",
       "      <th>10</th>\n",
       "      <td>21716</td>\n",
       "      <td>Star Wars: Episode VI - Return of the Jedi (1983)</td>\n",
       "      <td>59467</td>\n",
       "    </tr>\n",
       "    <tr>\n",
       "      <th>11</th>\n",
       "      <td>22771</td>\n",
       "      <td>Terminator 2: Judgment Day (1991)</td>\n",
       "      <td>59409</td>\n",
       "    </tr>\n",
       "    <tr>\n",
       "      <th>12</th>\n",
       "      <td>21715</td>\n",
       "      <td>Star Wars: Episode V - The Empire Strikes Back...</td>\n",
       "      <td>57625</td>\n",
       "    </tr>\n",
       "    <tr>\n",
       "      <th>13</th>\n",
       "      <td>25895</td>\n",
       "      <td>Usual Suspects, The (1995)</td>\n",
       "      <td>56348</td>\n",
       "    </tr>\n",
       "    <tr>\n",
       "      <th>14</th>\n",
       "      <td>1654</td>\n",
       "      <td>Apollo 13 (1995)</td>\n",
       "      <td>56077</td>\n",
       "    </tr>\n",
       "    <tr>\n",
       "      <th>15</th>\n",
       "      <td>8944</td>\n",
       "      <td>Fugitive, The (1993)</td>\n",
       "      <td>55654</td>\n",
       "    </tr>\n",
       "    <tr>\n",
       "      <th>16</th>\n",
       "      <td>1272</td>\n",
       "      <td>American Beauty (1999)</td>\n",
       "      <td>54819</td>\n",
       "    </tr>\n",
       "    <tr>\n",
       "      <th>17</th>\n",
       "      <td>8206</td>\n",
       "      <td>Fight Club (1999)</td>\n",
       "      <td>54376</td>\n",
       "    </tr>\n",
       "    <tr>\n",
       "      <th>18</th>\n",
       "      <td>9517</td>\n",
       "      <td>Godfather, The (1972)</td>\n",
       "      <td>53547</td>\n",
       "    </tr>\n",
       "    <tr>\n",
       "      <th>19</th>\n",
       "      <td>2412</td>\n",
       "      <td>Batman (1989)</td>\n",
       "      <td>52928</td>\n",
       "    </tr>\n",
       "  </tbody>\n",
       "</table>\n",
       "</div>"
      ],
      "text/plain": [
       "    index                                              title  movieId\n",
       "0    8659                                Forrest Gump (1994)    86629\n",
       "1   20619                   Shawshank Redemption, The (1994)    84455\n",
       "2   18662                                Pulp Fiction (1994)    83523\n",
       "3   20833                   Silence of the Lambs, The (1991)    80274\n",
       "4   21714          Star Wars: Episode IV - A New Hope (1977)    72215\n",
       "5   12523                               Jurassic Park (1993)    72147\n",
       "6   15081                                 Matrix, The (1999)    71450\n",
       "7    3679                                  Braveheart (1995)    63920\n",
       "8   20161                            Schindler's List (1993)    63889\n",
       "9   25170                                   Toy Story (1995)    63469\n",
       "10  21716  Star Wars: Episode VI - Return of the Jedi (1983)    59467\n",
       "11  22771                  Terminator 2: Judgment Day (1991)    59409\n",
       "12  21715  Star Wars: Episode V - The Empire Strikes Back...    57625\n",
       "13  25895                         Usual Suspects, The (1995)    56348\n",
       "14   1654                                   Apollo 13 (1995)    56077\n",
       "15   8944                               Fugitive, The (1993)    55654\n",
       "16   1272                             American Beauty (1999)    54819\n",
       "17   8206                                  Fight Club (1999)    54376\n",
       "18   9517                              Godfather, The (1972)    53547\n",
       "19   2412                                      Batman (1989)    52928"
      ]
     },
     "execution_count": 12,
     "metadata": {},
     "output_type": "execute_result"
    }
   ],
   "source": [
    "most_rated"
   ]
  },
  {
   "cell_type": "code",
   "execution_count": 14,
   "metadata": {
    "collapsed": false
   },
   "outputs": [
    {
     "data": {
      "image/png": "[encoded data removed]",
      "text/plain": [
       "<matplotlib.figure.Figure at 0x1154cffd0>"
      ]
     },
     "metadata": {
      "image/png": {
       "height": 436,
       "width": 877
      }
     },
     "output_type": "display_data"
    }
   ],
   "source": [
    "fig = plt.figure(figsize=(6,4))\n",
    "ax = fig.gca()  #get current axis\n",
    "\n",
    "ax = sns.barplot(x=most_rated[\"movieId\"], y=most_rated[\"title\"], orient='h')\n",
    "\n",
    "ax.set_xlabel('Count of ratings', fontsize=16)\n",
    "ax.set_title('Most rated movies\\n', fontsize=20)\n",
    "\n",
    "plt.show()\n"
   ]
  },
  {
   "cell_type": "code",
   "execution_count": 15,
   "metadata": {
    "collapsed": true
   },
   "outputs": [],
   "source": [
    "import patsy\n",
    "formula  =  'HORROR ~ rating'\n",
    "y, X     =  patsy.dmatrices(formula, data=ratings_movies, return_type=\"dataframe\")"
   ]
  },
  {
   "cell_type": "code",
   "execution_count": 16,
   "metadata": {
    "collapsed": true
   },
   "outputs": [],
   "source": [
    "from sklearn.preprocessing import StandardScaler\n",
    "ss = StandardScaler()\n",
    "Xn = ss.fit_transform(X)\n",
    "y = np.ravel(y)"
   ]
  },
  {
   "cell_type": "code",
   "execution_count": null,
   "metadata": {
    "collapsed": false
   },
   "outputs": [
    {
     "name": "stdout",
     "output_type": "stream",
     "text": [
      "Fitting 4 folds for each of 38 candidates, totalling 152 fits\n"
     ]
    }
   ],
   "source": [
    "from sklearn.neighbors import KNeighborsClassifier\n",
    "from sklearn.grid_search import GridSearchCV\n",
    "#K-neighbors classifier with GridsearchCv\n",
    "params = {\n",
    "    'n_neighbors':range(1,20),\n",
    "    'weights':['uniform','distance']\n",
    "}\n",
    "\n",
    "knn = KNeighborsClassifier()\n",
    "knn_gs = GridSearchCV(knn, params, cv=4, verbose=1)\n",
    "\n",
    "results = knn_gs.fit(Xn, y)"
   ]
  },
  {
   "cell_type": "code",
   "execution_count": null,
   "metadata": {
    "collapsed": true
   },
   "outputs": [],
   "source": [
    "from sklearn.cross_validation import cross_val_score\n",
    "\n",
    "\n",
    "scores = cross_val_score(knn_gs, Xn, y, cv=5)\n",
    "print scores\n",
    "print \"Cross-validated scores mean:\", sum(scores)/len(scores)\n"
   ]
  },
  {
   "cell_type": "markdown",
   "metadata": {
    "collapsed": true
   },
   "source": [
    "### Average rating per user:"
   ]
  },
  {
   "cell_type": "code",
   "execution_count": 9,
   "metadata": {
    "collapsed": true
   },
   "outputs": [],
   "source": [
    "avg_user = pd.DataFrame(ratings_movies.groupby(['userId'])['rating'].mean()).reset_index()"
   ]
  },
  {
   "cell_type": "code",
   "execution_count": 10,
   "metadata": {
    "collapsed": false
   },
   "outputs": [
    {
     "data": {
      "text/html": [
       "<div>\n",
       "<table border=\"1\" class=\"dataframe\">\n",
       "  <thead>\n",
       "    <tr style=\"text-align: right;\">\n",
       "      <th></th>\n",
       "      <th>userId</th>\n",
       "      <th>rating</th>\n",
       "    </tr>\n",
       "  </thead>\n",
       "  <tbody>\n",
       "    <tr>\n",
       "      <th>0</th>\n",
       "      <td>1</td>\n",
       "      <td>2.666667</td>\n",
       "    </tr>\n",
       "    <tr>\n",
       "      <th>1</th>\n",
       "      <td>2</td>\n",
       "      <td>2.600000</td>\n",
       "    </tr>\n",
       "    <tr>\n",
       "      <th>2</th>\n",
       "      <td>3</td>\n",
       "      <td>3.344262</td>\n",
       "    </tr>\n",
       "    <tr>\n",
       "      <th>3</th>\n",
       "      <td>4</td>\n",
       "      <td>3.000000</td>\n",
       "    </tr>\n",
       "    <tr>\n",
       "      <th>4</th>\n",
       "      <td>5</td>\n",
       "      <td>3.925926</td>\n",
       "    </tr>\n",
       "  </tbody>\n",
       "</table>\n",
       "</div>"
      ],
      "text/plain": [
       "   userId    rating\n",
       "0       1  2.666667\n",
       "1       2  2.600000\n",
       "2       3  3.344262\n",
       "3       4  3.000000\n",
       "4       5  3.925926"
      ]
     },
     "execution_count": 10,
     "metadata": {},
     "output_type": "execute_result"
    }
   ],
   "source": [
    "avg_user.head()"
   ]
  },
  {
   "cell_type": "markdown",
   "metadata": {},
   "source": [
    "#### Merge this user average rating table with ratings_movies:"
   ]
  },
  {
   "cell_type": "code",
   "execution_count": 29,
   "metadata": {
    "collapsed": true
   },
   "outputs": [],
   "source": [
    "ratings_movies_user = ratings_movies.merge(avg_user, how='left', left_on='userId', right_on='userId')"
   ]
  },
  {
   "cell_type": "code",
   "execution_count": 30,
   "metadata": {
    "collapsed": false
   },
   "outputs": [
    {
     "data": {
      "text/html": [
       "<div>\n",
       "<table border=\"1\" class=\"dataframe\">\n",
       "  <thead>\n",
       "    <tr style=\"text-align: right;\">\n",
       "      <th></th>\n",
       "      <th>userId</th>\n",
       "      <th>movieId</th>\n",
       "      <th>rating_x</th>\n",
       "      <th>timestamp</th>\n",
       "      <th>Unnamed: 0</th>\n",
       "      <th>ratings_count</th>\n",
       "      <th>ratings_mean</th>\n",
       "      <th>title</th>\n",
       "      <th>genres</th>\n",
       "      <th>COMEDY</th>\n",
       "      <th>...</th>\n",
       "      <th>CRIME</th>\n",
       "      <th>FANTASY</th>\n",
       "      <th>FILM-NOIR</th>\n",
       "      <th>MUSICAL</th>\n",
       "      <th>SCI-FI</th>\n",
       "      <th>MYSTERY</th>\n",
       "      <th>WAR</th>\n",
       "      <th>Year</th>\n",
       "      <th>title_list</th>\n",
       "      <th>rating_y</th>\n",
       "    </tr>\n",
       "  </thead>\n",
       "  <tbody>\n",
       "    <tr>\n",
       "      <th>0</th>\n",
       "      <td>1</td>\n",
       "      <td>122</td>\n",
       "      <td>2.0</td>\n",
       "      <td>945544824</td>\n",
       "      <td>120.0</td>\n",
       "      <td>4060.0</td>\n",
       "      <td>2.862931</td>\n",
       "      <td>Boomerang (1992)</td>\n",
       "      <td>Comedy|Romance</td>\n",
       "      <td>1.0</td>\n",
       "      <td>...</td>\n",
       "      <td>0.0</td>\n",
       "      <td>0.0</td>\n",
       "      <td>0.0</td>\n",
       "      <td>0.0</td>\n",
       "      <td>0.0</td>\n",
       "      <td>0.0</td>\n",
       "      <td>0.0</td>\n",
       "      <td>1992.0</td>\n",
       "      <td>['Boomerang']</td>\n",
       "      <td>2.666667</td>\n",
       "    </tr>\n",
       "    <tr>\n",
       "      <th>1</th>\n",
       "      <td>1</td>\n",
       "      <td>172</td>\n",
       "      <td>1.0</td>\n",
       "      <td>945544871</td>\n",
       "      <td>170.0</td>\n",
       "      <td>14078.0</td>\n",
       "      <td>2.742542</td>\n",
       "      <td>Johnny Mnemonic (1995)</td>\n",
       "      <td>Action|Sci-Fi|Thriller</td>\n",
       "      <td>0.0</td>\n",
       "      <td>...</td>\n",
       "      <td>0.0</td>\n",
       "      <td>0.0</td>\n",
       "      <td>0.0</td>\n",
       "      <td>0.0</td>\n",
       "      <td>1.0</td>\n",
       "      <td>0.0</td>\n",
       "      <td>0.0</td>\n",
       "      <td>1995.0</td>\n",
       "      <td>['Johnny', 'Mnemonic']</td>\n",
       "      <td>2.666667</td>\n",
       "    </tr>\n",
       "    <tr>\n",
       "      <th>2</th>\n",
       "      <td>1</td>\n",
       "      <td>1221</td>\n",
       "      <td>5.0</td>\n",
       "      <td>945544788</td>\n",
       "      <td>1195.0</td>\n",
       "      <td>34508.0</td>\n",
       "      <td>4.263098</td>\n",
       "      <td>Godfather: Part II, The (1974)</td>\n",
       "      <td>Crime|Drama</td>\n",
       "      <td>0.0</td>\n",
       "      <td>...</td>\n",
       "      <td>1.0</td>\n",
       "      <td>0.0</td>\n",
       "      <td>0.0</td>\n",
       "      <td>0.0</td>\n",
       "      <td>0.0</td>\n",
       "      <td>0.0</td>\n",
       "      <td>0.0</td>\n",
       "      <td>1974.0</td>\n",
       "      <td>['Godfather:', 'Part', 'II,', 'The']</td>\n",
       "      <td>2.666667</td>\n",
       "    </tr>\n",
       "    <tr>\n",
       "      <th>3</th>\n",
       "      <td>1</td>\n",
       "      <td>1441</td>\n",
       "      <td>4.0</td>\n",
       "      <td>945544871</td>\n",
       "      <td>1406.0</td>\n",
       "      <td>6723.0</td>\n",
       "      <td>3.544102</td>\n",
       "      <td>Benny &amp; Joon (1993)</td>\n",
       "      <td>Comedy|Romance</td>\n",
       "      <td>1.0</td>\n",
       "      <td>...</td>\n",
       "      <td>0.0</td>\n",
       "      <td>0.0</td>\n",
       "      <td>0.0</td>\n",
       "      <td>0.0</td>\n",
       "      <td>0.0</td>\n",
       "      <td>0.0</td>\n",
       "      <td>0.0</td>\n",
       "      <td>1993.0</td>\n",
       "      <td>['Benny', '&amp;', 'Joon']</td>\n",
       "      <td>2.666667</td>\n",
       "    </tr>\n",
       "    <tr>\n",
       "      <th>4</th>\n",
       "      <td>1</td>\n",
       "      <td>1961</td>\n",
       "      <td>3.0</td>\n",
       "      <td>945544871</td>\n",
       "      <td>1878.0</td>\n",
       "      <td>29790.0</td>\n",
       "      <td>3.911195</td>\n",
       "      <td>Rain Man (1988)</td>\n",
       "      <td>Drama</td>\n",
       "      <td>0.0</td>\n",
       "      <td>...</td>\n",
       "      <td>0.0</td>\n",
       "      <td>0.0</td>\n",
       "      <td>0.0</td>\n",
       "      <td>0.0</td>\n",
       "      <td>0.0</td>\n",
       "      <td>0.0</td>\n",
       "      <td>0.0</td>\n",
       "      <td>1988.0</td>\n",
       "      <td>['Rain', 'Man']</td>\n",
       "      <td>2.666667</td>\n",
       "    </tr>\n",
       "  </tbody>\n",
       "</table>\n",
       "<p>5 rows × 29 columns</p>\n",
       "</div>"
      ],
      "text/plain": [
       "   userId  movieId  rating_x  timestamp  Unnamed: 0  ratings_count  \\\n",
       "0       1      122       2.0  945544824       120.0         4060.0   \n",
       "1       1      172       1.0  945544871       170.0        14078.0   \n",
       "2       1     1221       5.0  945544788      1195.0        34508.0   \n",
       "3       1     1441       4.0  945544871      1406.0         6723.0   \n",
       "4       1     1961       3.0  945544871      1878.0        29790.0   \n",
       "\n",
       "   ratings_mean                           title                  genres  \\\n",
       "0      2.862931                Boomerang (1992)          Comedy|Romance   \n",
       "1      2.742542          Johnny Mnemonic (1995)  Action|Sci-Fi|Thriller   \n",
       "2      4.263098  Godfather: Part II, The (1974)             Crime|Drama   \n",
       "3      3.544102             Benny & Joon (1993)          Comedy|Romance   \n",
       "4      3.911195                 Rain Man (1988)                   Drama   \n",
       "\n",
       "   COMEDY    ...     CRIME  FANTASY  FILM-NOIR  MUSICAL  SCI-FI  MYSTERY  WAR  \\\n",
       "0     1.0    ...       0.0      0.0        0.0      0.0     0.0      0.0  0.0   \n",
       "1     0.0    ...       0.0      0.0        0.0      0.0     1.0      0.0  0.0   \n",
       "2     0.0    ...       1.0      0.0        0.0      0.0     0.0      0.0  0.0   \n",
       "3     1.0    ...       0.0      0.0        0.0      0.0     0.0      0.0  0.0   \n",
       "4     0.0    ...       0.0      0.0        0.0      0.0     0.0      0.0  0.0   \n",
       "\n",
       "     Year                            title_list  rating_y  \n",
       "0  1992.0                         ['Boomerang']  2.666667  \n",
       "1  1995.0                ['Johnny', 'Mnemonic']  2.666667  \n",
       "2  1974.0  ['Godfather:', 'Part', 'II,', 'The']  2.666667  \n",
       "3  1993.0                ['Benny', '&', 'Joon']  2.666667  \n",
       "4  1988.0                       ['Rain', 'Man']  2.666667  \n",
       "\n",
       "[5 rows x 29 columns]"
      ]
     },
     "execution_count": 30,
     "metadata": {},
     "output_type": "execute_result"
    }
   ],
   "source": [
    "ratings_movies_user.head()"
   ]
  },
  {
   "cell_type": "code",
   "execution_count": 31,
   "metadata": {
    "collapsed": true
   },
   "outputs": [],
   "source": [
    "ratings_movies_user['user_avg_rating'] = ratings_movies_user['rating_y']"
   ]
  },
  {
   "cell_type": "code",
   "execution_count": 32,
   "metadata": {
    "collapsed": false
   },
   "outputs": [],
   "source": [
    "del ratings_movies_user['rating_y']"
   ]
  },
  {
   "cell_type": "markdown",
   "metadata": {},
   "source": [
    "#### New column movie rating - average user's rating (- values mean that the movie was below average rating):"
   ]
  },
  {
   "cell_type": "code",
   "execution_count": 33,
   "metadata": {
    "collapsed": true
   },
   "outputs": [],
   "source": [
    "ratings_movies_user['rating_mean_stand'] = ratings_movies_user['rating_x'] - ratings_movies_user['user_avg_rating']"
   ]
  },
  {
   "cell_type": "code",
   "execution_count": 34,
   "metadata": {
    "collapsed": false
   },
   "outputs": [
    {
     "data": {
      "text/html": [
       "<div>\n",
       "<table border=\"1\" class=\"dataframe\">\n",
       "  <thead>\n",
       "    <tr style=\"text-align: right;\">\n",
       "      <th></th>\n",
       "      <th>userId</th>\n",
       "      <th>movieId</th>\n",
       "      <th>rating_x</th>\n",
       "      <th>timestamp</th>\n",
       "      <th>Unnamed: 0</th>\n",
       "      <th>ratings_count</th>\n",
       "      <th>ratings_mean</th>\n",
       "      <th>title</th>\n",
       "      <th>genres</th>\n",
       "      <th>COMEDY</th>\n",
       "      <th>...</th>\n",
       "      <th>FANTASY</th>\n",
       "      <th>FILM-NOIR</th>\n",
       "      <th>MUSICAL</th>\n",
       "      <th>SCI-FI</th>\n",
       "      <th>MYSTERY</th>\n",
       "      <th>WAR</th>\n",
       "      <th>Year</th>\n",
       "      <th>title_list</th>\n",
       "      <th>user_avg_rating</th>\n",
       "      <th>rating_mean_stand</th>\n",
       "    </tr>\n",
       "  </thead>\n",
       "  <tbody>\n",
       "    <tr>\n",
       "      <th>0</th>\n",
       "      <td>1</td>\n",
       "      <td>122</td>\n",
       "      <td>2.0</td>\n",
       "      <td>945544824</td>\n",
       "      <td>120.0</td>\n",
       "      <td>4060.0</td>\n",
       "      <td>2.862931</td>\n",
       "      <td>Boomerang (1992)</td>\n",
       "      <td>Comedy|Romance</td>\n",
       "      <td>1.0</td>\n",
       "      <td>...</td>\n",
       "      <td>0.0</td>\n",
       "      <td>0.0</td>\n",
       "      <td>0.0</td>\n",
       "      <td>0.0</td>\n",
       "      <td>0.0</td>\n",
       "      <td>0.0</td>\n",
       "      <td>1992.0</td>\n",
       "      <td>['Boomerang']</td>\n",
       "      <td>2.666667</td>\n",
       "      <td>-0.666667</td>\n",
       "    </tr>\n",
       "    <tr>\n",
       "      <th>1</th>\n",
       "      <td>1</td>\n",
       "      <td>172</td>\n",
       "      <td>1.0</td>\n",
       "      <td>945544871</td>\n",
       "      <td>170.0</td>\n",
       "      <td>14078.0</td>\n",
       "      <td>2.742542</td>\n",
       "      <td>Johnny Mnemonic (1995)</td>\n",
       "      <td>Action|Sci-Fi|Thriller</td>\n",
       "      <td>0.0</td>\n",
       "      <td>...</td>\n",
       "      <td>0.0</td>\n",
       "      <td>0.0</td>\n",
       "      <td>0.0</td>\n",
       "      <td>1.0</td>\n",
       "      <td>0.0</td>\n",
       "      <td>0.0</td>\n",
       "      <td>1995.0</td>\n",
       "      <td>['Johnny', 'Mnemonic']</td>\n",
       "      <td>2.666667</td>\n",
       "      <td>-1.666667</td>\n",
       "    </tr>\n",
       "    <tr>\n",
       "      <th>2</th>\n",
       "      <td>1</td>\n",
       "      <td>1221</td>\n",
       "      <td>5.0</td>\n",
       "      <td>945544788</td>\n",
       "      <td>1195.0</td>\n",
       "      <td>34508.0</td>\n",
       "      <td>4.263098</td>\n",
       "      <td>Godfather: Part II, The (1974)</td>\n",
       "      <td>Crime|Drama</td>\n",
       "      <td>0.0</td>\n",
       "      <td>...</td>\n",
       "      <td>0.0</td>\n",
       "      <td>0.0</td>\n",
       "      <td>0.0</td>\n",
       "      <td>0.0</td>\n",
       "      <td>0.0</td>\n",
       "      <td>0.0</td>\n",
       "      <td>1974.0</td>\n",
       "      <td>['Godfather:', 'Part', 'II,', 'The']</td>\n",
       "      <td>2.666667</td>\n",
       "      <td>2.333333</td>\n",
       "    </tr>\n",
       "    <tr>\n",
       "      <th>3</th>\n",
       "      <td>1</td>\n",
       "      <td>1441</td>\n",
       "      <td>4.0</td>\n",
       "      <td>945544871</td>\n",
       "      <td>1406.0</td>\n",
       "      <td>6723.0</td>\n",
       "      <td>3.544102</td>\n",
       "      <td>Benny &amp; Joon (1993)</td>\n",
       "      <td>Comedy|Romance</td>\n",
       "      <td>1.0</td>\n",
       "      <td>...</td>\n",
       "      <td>0.0</td>\n",
       "      <td>0.0</td>\n",
       "      <td>0.0</td>\n",
       "      <td>0.0</td>\n",
       "      <td>0.0</td>\n",
       "      <td>0.0</td>\n",
       "      <td>1993.0</td>\n",
       "      <td>['Benny', '&amp;', 'Joon']</td>\n",
       "      <td>2.666667</td>\n",
       "      <td>1.333333</td>\n",
       "    </tr>\n",
       "    <tr>\n",
       "      <th>4</th>\n",
       "      <td>1</td>\n",
       "      <td>1961</td>\n",
       "      <td>3.0</td>\n",
       "      <td>945544871</td>\n",
       "      <td>1878.0</td>\n",
       "      <td>29790.0</td>\n",
       "      <td>3.911195</td>\n",
       "      <td>Rain Man (1988)</td>\n",
       "      <td>Drama</td>\n",
       "      <td>0.0</td>\n",
       "      <td>...</td>\n",
       "      <td>0.0</td>\n",
       "      <td>0.0</td>\n",
       "      <td>0.0</td>\n",
       "      <td>0.0</td>\n",
       "      <td>0.0</td>\n",
       "      <td>0.0</td>\n",
       "      <td>1988.0</td>\n",
       "      <td>['Rain', 'Man']</td>\n",
       "      <td>2.666667</td>\n",
       "      <td>0.333333</td>\n",
       "    </tr>\n",
       "  </tbody>\n",
       "</table>\n",
       "<p>5 rows × 30 columns</p>\n",
       "</div>"
      ],
      "text/plain": [
       "   userId  movieId  rating_x  timestamp  Unnamed: 0  ratings_count  \\\n",
       "0       1      122       2.0  945544824       120.0         4060.0   \n",
       "1       1      172       1.0  945544871       170.0        14078.0   \n",
       "2       1     1221       5.0  945544788      1195.0        34508.0   \n",
       "3       1     1441       4.0  945544871      1406.0         6723.0   \n",
       "4       1     1961       3.0  945544871      1878.0        29790.0   \n",
       "\n",
       "   ratings_mean                           title                  genres  \\\n",
       "0      2.862931                Boomerang (1992)          Comedy|Romance   \n",
       "1      2.742542          Johnny Mnemonic (1995)  Action|Sci-Fi|Thriller   \n",
       "2      4.263098  Godfather: Part II, The (1974)             Crime|Drama   \n",
       "3      3.544102             Benny & Joon (1993)          Comedy|Romance   \n",
       "4      3.911195                 Rain Man (1988)                   Drama   \n",
       "\n",
       "   COMEDY        ...          FANTASY  FILM-NOIR  MUSICAL  SCI-FI  MYSTERY  \\\n",
       "0     1.0        ...              0.0        0.0      0.0     0.0      0.0   \n",
       "1     0.0        ...              0.0        0.0      0.0     1.0      0.0   \n",
       "2     0.0        ...              0.0        0.0      0.0     0.0      0.0   \n",
       "3     1.0        ...              0.0        0.0      0.0     0.0      0.0   \n",
       "4     0.0        ...              0.0        0.0      0.0     0.0      0.0   \n",
       "\n",
       "   WAR    Year                            title_list  user_avg_rating  \\\n",
       "0  0.0  1992.0                         ['Boomerang']         2.666667   \n",
       "1  0.0  1995.0                ['Johnny', 'Mnemonic']         2.666667   \n",
       "2  0.0  1974.0  ['Godfather:', 'Part', 'II,', 'The']         2.666667   \n",
       "3  0.0  1993.0                ['Benny', '&', 'Joon']         2.666667   \n",
       "4  0.0  1988.0                       ['Rain', 'Man']         2.666667   \n",
       "\n",
       "   rating_mean_stand  \n",
       "0          -0.666667  \n",
       "1          -1.666667  \n",
       "2           2.333333  \n",
       "3           1.333333  \n",
       "4           0.333333  \n",
       "\n",
       "[5 rows x 30 columns]"
      ]
     },
     "execution_count": 34,
     "metadata": {},
     "output_type": "execute_result"
    }
   ],
   "source": [
    "ratings_movies_user.head()"
   ]
  },
  {
   "cell_type": "code",
   "execution_count": null,
   "metadata": {
    "collapsed": true
   },
   "outputs": [],
   "source": []
  }
 ],
 "metadata": {
  "anaconda-cloud": {},
  "kernelspec": {
   "display_name": "Python [conda env:dsi]",
   "language": "python",
   "name": "conda-env-dsi-py"
  },
  "language_info": {
   "codemirror_mode": {
    "name": "ipython",
    "version": 2
   },
   "file_extension": ".py",
   "mimetype": "text/x-python",
   "name": "python",
   "nbconvert_exporter": "python",
   "pygments_lexer": "ipython2",
   "version": "2.7.12"
  }
 },
 "nbformat": 4,
 "nbformat_minor": 1
}

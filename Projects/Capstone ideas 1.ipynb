{
 "cells": [
  {
   "cell_type": "markdown",
   "metadata": {},
   "source": [
    "##### 1. Capstone idea:\n",
    "#### Linear regression model of brain dynamics across time while doing a classification learning task.\n",
    "\n",
    "This project would use OpenfMRI.com data https://openfmri.org/dataset/ds000113b/\n",
    "\n",
    "In the paper published from this dataset, the authors posted that there is a difference in accuracy in the task \n",
    "over time. Meaning that accuracy is higher in the second trial compared to the first trial. \n",
    "These are behavioral data but want to look at the change in scans corresponding to those trials.\n",
    "\n",
    "I assume that there is going to be change in the images as well. The second trial should be easier. \n",
    "Therefore less brain activity required leading to less BOLD signal. I would like to see whether \n",
    "there a linear progress in the dynamics.\n",
    "\n",
    "I would calculate the brain dynamics (I found more methods for that) for each image that represents \n",
    "a time point and then see whether there is a relationship between the dynamics and time. If I am unable \n",
    "to count for those dynamics, I can just take the volume of the activation (volume of activated brain parts \n",
    "compared to unactivated).\n"
   ]
  },
  {
   "cell_type": "markdown",
   "metadata": {},
   "source": [
    "##### 2. Capstone idea:\n",
    "\n",
    "#### Facebook recommedation system based on mutual likes and affiliations.\n",
    "\n",
    "This project would use data from Facebook.com by webscraping.\n",
    "\n",
    "Now, Facebook recommends friends according to mutual friends, but I would like to build a neural network that would\n",
    "allow Facebook to recommend new friends according to mutual likes and affiliations. \n",
    "\n",
    "I should be able to test the accuracy of the recommendations according to the real friendships as people with same\n",
    "affiliation are most likely to be friends, and they will be recommended with mutual friends."
   ]
  },
  {
   "cell_type": "code",
   "execution_count": null,
   "metadata": {
    "collapsed": true
   },
   "outputs": [],
   "source": []
  }
 ],
 "metadata": {
  "anaconda-cloud": {},
  "kernelspec": {
   "display_name": "Python [conda env:dsi]",
   "language": "python",
   "name": "conda-env-dsi-py"
  },
  "language_info": {
   "codemirror_mode": {
    "name": "ipython",
    "version": 2
   },
   "file_extension": ".py",
   "mimetype": "text/x-python",
   "name": "python",
   "nbconvert_exporter": "python",
   "pygments_lexer": "ipython2",
   "version": "2.7.12"
  }
 },
 "nbformat": 4,
 "nbformat_minor": 1
}
